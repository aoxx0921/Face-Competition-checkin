{
 "cells": [
  {
   "cell_type": "code",
   "execution_count": 1,
   "metadata": {},
   "outputs": [
    {
     "name": "stderr",
     "output_type": "stream",
     "text": [
      "/Users/aoxu/anaconda/lib/python3.6/site-packages/IPython/html.py:14: ShimWarning: The `IPython.html` package has been deprecated since IPython 4.0. You should import from `notebook` instead. `IPython.html.widgets` has moved to `ipywidgets`.\n",
      "  \"`IPython.html.widgets` has moved to `ipywidgets`.\", ShimWarning)\n"
     ]
    }
   ],
   "source": [
    "import pandas as pd\n",
    "import numpy as np\n",
    "\n",
    "import matplotlib.pyplot as plt\n",
    "import seaborn as sns\n",
    "%matplotlib inline\n",
    "\n",
    "from sklearn.metrics import classification_report, confusion_matrix, accuracy_score\n",
    "\n",
    "from sklearn.model_selection import cross_validate, cross_val_predict, cross_val_score\n",
    "\n",
    "import sys, os, math\n",
    "import time\n",
    "import datetime"
   ]
  },
  {
   "cell_type": "code",
   "execution_count": 2,
   "metadata": {},
   "outputs": [
    {
     "data": {
      "text/html": [
       "<div>\n",
       "<style>\n",
       "    .dataframe thead tr:only-child th {\n",
       "        text-align: right;\n",
       "    }\n",
       "\n",
       "    .dataframe thead th {\n",
       "        text-align: left;\n",
       "    }\n",
       "\n",
       "    .dataframe tbody tr th {\n",
       "        vertical-align: top;\n",
       "    }\n",
       "</style>\n",
       "<table border=\"1\" class=\"dataframe\">\n",
       "  <thead>\n",
       "    <tr style=\"text-align: right;\">\n",
       "      <th></th>\n",
       "      <th>row_id</th>\n",
       "      <th>x</th>\n",
       "      <th>y</th>\n",
       "      <th>accuracy</th>\n",
       "      <th>time</th>\n",
       "      <th>place_id</th>\n",
       "    </tr>\n",
       "  </thead>\n",
       "  <tbody>\n",
       "    <tr>\n",
       "      <th>0</th>\n",
       "      <td>0</td>\n",
       "      <td>0.7941</td>\n",
       "      <td>9.0809</td>\n",
       "      <td>54</td>\n",
       "      <td>470702</td>\n",
       "      <td>8523065625</td>\n",
       "    </tr>\n",
       "    <tr>\n",
       "      <th>1</th>\n",
       "      <td>1</td>\n",
       "      <td>5.9567</td>\n",
       "      <td>4.7968</td>\n",
       "      <td>13</td>\n",
       "      <td>186555</td>\n",
       "      <td>1757726713</td>\n",
       "    </tr>\n",
       "    <tr>\n",
       "      <th>2</th>\n",
       "      <td>2</td>\n",
       "      <td>8.3078</td>\n",
       "      <td>7.0407</td>\n",
       "      <td>74</td>\n",
       "      <td>322648</td>\n",
       "      <td>1137537235</td>\n",
       "    </tr>\n",
       "    <tr>\n",
       "      <th>3</th>\n",
       "      <td>3</td>\n",
       "      <td>7.3665</td>\n",
       "      <td>2.5165</td>\n",
       "      <td>65</td>\n",
       "      <td>704587</td>\n",
       "      <td>6567393236</td>\n",
       "    </tr>\n",
       "    <tr>\n",
       "      <th>4</th>\n",
       "      <td>4</td>\n",
       "      <td>4.0961</td>\n",
       "      <td>1.1307</td>\n",
       "      <td>31</td>\n",
       "      <td>472130</td>\n",
       "      <td>7440663949</td>\n",
       "    </tr>\n",
       "  </tbody>\n",
       "</table>\n",
       "</div>"
      ],
      "text/plain": [
       "   row_id       x       y  accuracy    time    place_id\n",
       "0       0  0.7941  9.0809        54  470702  8523065625\n",
       "1       1  5.9567  4.7968        13  186555  1757726713\n",
       "2       2  8.3078  7.0407        74  322648  1137537235\n",
       "3       3  7.3665  2.5165        65  704587  6567393236\n",
       "4       4  4.0961  1.1307        31  472130  7440663949"
      ]
     },
     "execution_count": 2,
     "metadata": {},
     "output_type": "execute_result"
    }
   ],
   "source": [
    "train = pd.read_csv('train.csv')\n",
    "train.head()"
   ]
  },
  {
   "cell_type": "code",
   "execution_count": 3,
   "metadata": {},
   "outputs": [
    {
     "data": {
      "text/plain": [
       "108390"
      ]
     },
     "execution_count": 3,
     "metadata": {},
     "output_type": "execute_result"
    }
   ],
   "source": [
    "len(train.place_id.unique())"
   ]
  },
  {
   "cell_type": "markdown",
   "metadata": {},
   "source": [
    "# Data preprocessing & visualization"
   ]
  },
  {
   "cell_type": "code",
   "execution_count": 5,
   "metadata": {},
   "outputs": [
    {
     "data": {
      "image/png": "[encoded data removed]",
      "text/plain": [
       "<matplotlib.figure.Figure at 0x113814b00>"
      ]
     },
     "metadata": {},
     "output_type": "display_data"
    }
   ],
   "source": [
    "#### check place_id frequency ###\n",
    "\n",
    "df_placecounts = train['place_id'].value_counts()\n",
    "\n",
    "counts, bins = np.histogram(df_placecounts.values, bins = 50)\n",
    "binsc = bins[:-1]+np.diff(bins)/2\n",
    "\n",
    "plt.figure(3, figsize = (12,6))\n",
    "plt.bar(binsc, counts/(counts.sum()*1.0), width = np.diff(bins)[0])\n",
    "plt.grid(True)\n",
    "plt.xlabel('number of place occurance')\n",
    "plt.ylabel('fraction')\n",
    "plt.title('train')\n",
    "plt.show()"
   ]
  },
  {
   "cell_type": "code",
   "execution_count": null,
   "metadata": {
    "collapsed": true
   },
   "outputs": [],
   "source": [
    "### place id apprears time \n",
    "\n"
   ]
  },
  {
   "cell_type": "code",
   "execution_count": 6,
   "metadata": {},
   "outputs": [
    {
     "data": {
      "image/png": "[encoded data removed]",
      "text/plain": [
       "<matplotlib.figure.Figure at 0x10a112668>"
      ]
     },
     "metadata": {},
     "output_type": "display_data"
    }
   ],
   "source": [
    "### check accuracy in train & test ###\n",
    "\n",
    "counts1, bins1 = np.histogram(train['accuracy'], bins = 50)\n",
    "binsc1 = bins1[:-1]+np.diff(bins1)/2\n",
    "\n",
    "counts2, bins2 = np.histogram(test['accuracy'], bins = 50)\n",
    "binsc2 = bins2[:-1]+np.diff(bins2)/2\n",
    "\n",
    "plt.figure(0, figsize = (14,4))\n",
    "\n",
    "plt.subplot(121)\n",
    "plt.bar(binsc1, counts1/(counts1.sum()*1.0), width = np.diff(bins1)[0])\n",
    "plt.grid(True)\n",
    "plt.xlabel('Accuracy')\n",
    "plt.ylabel('Fraction')\n",
    "plt.title('Train')\n",
    "\n",
    "plt.subplot(122)\n",
    "plt.bar(binsc2, counts2/(counts2.sum()*1.0), width = np.diff(bins2)[0])\n",
    "plt.grid(True)\n",
    "plt.xlabel('Accuracy')\n",
    "plt.ylabel('Fraction')\n",
    "plt.title('Test')\n",
    "\n",
    "plt.show()"
   ]
  },
  {
   "cell_type": "code",
   "execution_count": 7,
   "metadata": {},
   "outputs": [
    {
     "data": {
      "image/png": "[encoded data removed]",
      "text/plain": [
       "<matplotlib.figure.Figure at 0x10bb77320>"
      ]
     },
     "metadata": {},
     "output_type": "display_data"
    }
   ],
   "source": [
    "### check time frequency in train & test ###\n",
    "\n",
    "current_palette = sns.color_palette()\n",
    "\n",
    "counts1, bins1 = np.histogram(train['time'], bins = 50)\n",
    "binsc1 = bins1[:-1]+np.diff(bins1)/2\n",
    "\n",
    "counts2, bins2 = np.histogram(test['time'], bins = 50)\n",
    "binsc2 = bins2[:-1]+np.diff(bins2)/2\n",
    "\n",
    "plt.figure(1, figsize = (12,3))\n",
    "\n",
    "plt.subplot(121)\n",
    "plt.bar(binsc1, counts1/(counts1.sum()*1.0), width = np.diff(bins1)[0], color = current_palette[0])\n",
    "plt.grid(True)\n",
    "plt.xlabel('Time')\n",
    "plt.ylabel('Fraction')\n",
    "plt.title('Train')\n",
    "\n",
    "plt.subplot(122)\n",
    "plt.bar(binsc2, counts2/(counts2.sum()*1.0), width = np.diff(bins2)[0], color = current_palette[1])\n",
    "plt.grid(True)\n",
    "plt.xlabel('Time')\n",
    "plt.ylabel('Fraction')\n",
    "plt.title('Test')\n",
    "\n",
    "plt.show()"
   ]
  },
  {
   "cell_type": "code",
   "execution_count": 76,
   "metadata": {
    "collapsed": true
   },
   "outputs": [],
   "source": [
    "## select sample which only in one-grid ##\n",
    "# x in [0,1] and y in [0,1]\n",
    "\n",
    "th = 200\n",
    "\n",
    "df_cell_train = train[(train['x']>=0)&(train['x']<1)&\n",
    "                     (train['y']>=0)&(train['y']<1)]     \n",
    "\n",
    "###### remove infrequency place_id #######\n",
    "\n",
    "place_counts = df_cell_train.place_id.value_counts()\n",
    "mask = (place_counts[df_cell_train.place_id.values]>=th).values\n",
    "df_cell_train = df_cell_train.loc[mask]"
   ]
  },
  {
   "cell_type": "code",
   "execution_count": 77,
   "metadata": {},
   "outputs": [
    {
     "data": {
      "text/plain": [
       "(185655, 6)"
      ]
     },
     "execution_count": 77,
     "metadata": {},
     "output_type": "execute_result"
    }
   ],
   "source": [
    "df_cell_train.shape"
   ]
  },
  {
   "cell_type": "code",
   "execution_count": 78,
   "metadata": {
    "collapsed": true
   },
   "outputs": [],
   "source": [
    "##### get a list of the top 20 places for future reference ####\n",
    "\n",
    "df_placecounts = df_cell_train.place_id.value_counts()\n",
    "df_placecounts = df_placecounts.sort_values(ascending = False)"
   ]
  },
  {
   "cell_type": "code",
   "execution_count": 79,
   "metadata": {},
   "outputs": [
    {
     "name": "stdout",
     "output_type": "stream",
     "text": [
      "[8507124067, 7470260459, 1511873045, 3421175639, 1254758593, 7858268564, 5861856288, 7609453580, 5108647025, 8805929689, 2411005523, 3131575096, 4682130071, 5473477945, 7123189219, 1273954023, 3662802511, 8609501758, 7408405796, 7163230644]\n"
     ]
    }
   ],
   "source": [
    "df_topplaces = df_placecounts.iloc[0:20]\n",
    "\n",
    "l_topplaces = list(df_topplaces.index)\n",
    "print(l_topplaces)"
   ]
  },
  {
   "cell_type": "code",
   "execution_count": 80,
   "metadata": {},
   "outputs": [
    {
     "name": "stderr",
     "output_type": "stream",
     "text": [
      "/Users/aoxu/anaconda/lib/python3.6/site-packages/ipykernel_launcher.py:14: RuntimeWarning: divide by zero encountered in log10\n",
      "  \n"
     ]
    },
    {
     "data": {
      "image/png": "[encoded data removed]",
      "text/plain": [
       "<matplotlib.figure.Figure at 0x1a20a75f28>"
      ]
     },
     "metadata": {},
     "output_type": "display_data"
    }
   ],
   "source": [
    "### check these 20 place_id`s location in (x,y) ###\n",
    "\n",
    "plt.figure(10, figsize = (14, 16))\n",
    "cmapm = plt.cm.viridis\n",
    "cmapm.set_bad(\"0.5\", 1.)\n",
    "\n",
    "for i in range(len(l_topplaces)):\n",
    "    place = l_topplaces[i]\n",
    "    df_train_place = df_cell_train[df_cell_train['place_id']==place]\n",
    "    counts, binsX, binsY = np.histogram2d(df_train_place['x'], df_train_place['y'], bins=100)\n",
    "    extent = [binsX.min(), binsX.max(), binsY.min(), binsY.max()]\n",
    "    \n",
    "    plt.subplot(5, 4, i+1)\n",
    "    plt.imshow(np.log10(counts.T),\n",
    "              interpolation = 'none',\n",
    "              origin = 'lower',\n",
    "              extent = extent,\n",
    "              aspect = 'auto',\n",
    "              cmap = cmapm)\n",
    "    plt.grid(True, c = '0.6',lw = 0.5)\n",
    "    plt.xlabel('X')\n",
    "    plt.ylabel('Y')\n",
    "    plt.title('pid:'+str(place))\n",
    "\n",
    "plt.tight_layout()\n",
    "plt.show()"
   ]
  },
  {
   "cell_type": "code",
   "execution_count": 81,
   "metadata": {},
   "outputs": [
    {
     "data": {
      "image/png": "[encoded data removed]",
      "text/plain": [
       "<matplotlib.figure.Figure at 0x1a23b456d8>"
      ]
     },
     "metadata": {},
     "output_type": "display_data"
    }
   ],
   "source": [
    "# check if any of the top places have time correlated visits\n",
    "\n",
    "plt.figure(6, figsize=(14, 10))\n",
    "for i in range(len(l_topplaces)):\n",
    "    place = l_topplaces[i]\n",
    "    \n",
    "    df_place = train[train['place_id'] == place]\n",
    "    \n",
    "    counts, bins = np.histogram(df_place['time'], bins = 50, range = [train['time'].min(), train['time'].max()])\n",
    "    binsc = bins[:-1]+np.diff(bins)/2\n",
    "    \n",
    "    plt.subplot(5, 4, i+1)\n",
    "    plt.bar(binsc, counts/(counts.sum()*1.0), width = np.diff(bins)[0])\n",
    "    plt.xlim(train['time'].min(), train['time'].max())\n",
    "    plt.grid(True)\n",
    "    plt.xlabel('Time')\n",
    "    plt.ylabel('Fraction')\n",
    "    plt.gca().get_xaxis().set_ticks([])\n",
    "    plt.title('pid:'+str(place))\n",
    "    \n",
    "plt.tight_layout()\n",
    "plt.show()"
   ]
  },
  {
   "cell_type": "markdown",
   "metadata": {},
   "source": [
    "# Feature Engineering"
   ]
  },
  {
   "cell_type": "code",
   "execution_count": 4,
   "metadata": {
    "collapsed": true
   },
   "outputs": [],
   "source": [
    "th = 200\n",
    "\n",
    "df_cell_train = train[(train['x']>=0)&(train['x']<1)&\n",
    "                     (train['y']>=0)&(train['y']<1)]     \n",
    "\n",
    "\n",
    "###### remove infrequency place_id #######\n",
    "\n",
    "place_counts = df_cell_train.place_id.value_counts()\n",
    "mask = (place_counts[df_cell_train.place_id.values]>=th).values\n",
    "df_cell_train = df_cell_train.loc[mask]\n",
    "\n",
    "\n",
    "\n",
    "# Add some columns to make calculations easier\n",
    "#df_cell_train[\"hour\"] = (df_cell_train[\"time\"]//60)%24+1\n",
    "#df_cell_train[\"week\"] = (df_cell_train['time']//1440)%7+1\n",
    "#df_cell_train[\"month\"] = (df_cell_train['time']//43200)%12+1\n",
    "#df_cell_train['year'] = (df_cell_train['time']//525600)+1\n",
    "\n",
    "df_cell_train[\"hour\"] = (df_cell_train[\"time\"]%(60*24))/60.\n",
    "df_cell_train[\"dayofweek\"] = np.ceil((df_cell_train[\"time\"]%(60*24*7))/(60.*24))\n",
    "df_cell_train['day of month'] = np.ceil((df_cell_train['time']%(60*24*30))/(60.*24))\n",
    "df_cell_train[\"dayofyear\"] = np.ceil((df_cell_train[\"time\"]%(60*24*365))/(60.*24))\n",
    "df_cell_train.head()\n",
    "\n",
    "\n",
    "fw = [500., 1000., 4., 3., 2., 8.]\n",
    "\n",
    "#df_cell_train.loc[:,'x']*=fw[0]\n",
    "#df_cell_train.loc[:,'y']*=fw[1]\n",
    "\n",
    "df_cell_train = df_cell_train.drop(['row_id', 'time'], axis = 1)\n"
   ]
  },
  {
   "cell_type": "code",
   "execution_count": 5,
   "metadata": {},
   "outputs": [
    {
     "data": {
      "text/html": [
       "<div>\n",
       "<style>\n",
       "    .dataframe thead tr:only-child th {\n",
       "        text-align: right;\n",
       "    }\n",
       "\n",
       "    .dataframe thead th {\n",
       "        text-align: left;\n",
       "    }\n",
       "\n",
       "    .dataframe tbody tr th {\n",
       "        vertical-align: top;\n",
       "    }\n",
       "</style>\n",
       "<table border=\"1\" class=\"dataframe\">\n",
       "  <thead>\n",
       "    <tr style=\"text-align: right;\">\n",
       "      <th></th>\n",
       "      <th>x</th>\n",
       "      <th>y</th>\n",
       "      <th>accuracy</th>\n",
       "      <th>place_id</th>\n",
       "      <th>hour</th>\n",
       "      <th>dayofweek</th>\n",
       "      <th>day of month</th>\n",
       "      <th>dayofyear</th>\n",
       "    </tr>\n",
       "  </thead>\n",
       "  <tbody>\n",
       "    <tr>\n",
       "      <th>0</th>\n",
       "      <td>0.0179</td>\n",
       "      <td>0.2321</td>\n",
       "      <td>67</td>\n",
       "      <td>8050782732</td>\n",
       "      <td>8.383333</td>\n",
       "      <td>6.0</td>\n",
       "      <td>17.0</td>\n",
       "      <td>12.0</td>\n",
       "    </tr>\n",
       "    <tr>\n",
       "      <th>1</th>\n",
       "      <td>0.1489</td>\n",
       "      <td>0.2586</td>\n",
       "      <td>59</td>\n",
       "      <td>5938943847</td>\n",
       "      <td>11.400000</td>\n",
       "      <td>3.0</td>\n",
       "      <td>18.0</td>\n",
       "      <td>108.0</td>\n",
       "    </tr>\n",
       "    <tr>\n",
       "      <th>2</th>\n",
       "      <td>0.9536</td>\n",
       "      <td>0.3766</td>\n",
       "      <td>95</td>\n",
       "      <td>7578348615</td>\n",
       "      <td>15.633333</td>\n",
       "      <td>6.0</td>\n",
       "      <td>4.0</td>\n",
       "      <td>89.0</td>\n",
       "    </tr>\n",
       "    <tr>\n",
       "      <th>3</th>\n",
       "      <td>0.6733</td>\n",
       "      <td>0.8339</td>\n",
       "      <td>82</td>\n",
       "      <td>1273954023</td>\n",
       "      <td>11.366667</td>\n",
       "      <td>6.0</td>\n",
       "      <td>18.0</td>\n",
       "      <td>103.0</td>\n",
       "    </tr>\n",
       "    <tr>\n",
       "      <th>4</th>\n",
       "      <td>0.8700</td>\n",
       "      <td>0.0681</td>\n",
       "      <td>65</td>\n",
       "      <td>7131826933</td>\n",
       "      <td>8.133333</td>\n",
       "      <td>2.0</td>\n",
       "      <td>20.0</td>\n",
       "      <td>15.0</td>\n",
       "    </tr>\n",
       "  </tbody>\n",
       "</table>\n",
       "</div>"
      ],
      "text/plain": [
       "        x       y  accuracy    place_id       hour  dayofweek  day of month  \\\n",
       "0  0.0179  0.2321        67  8050782732   8.383333        6.0          17.0   \n",
       "1  0.1489  0.2586        59  5938943847  11.400000        3.0          18.0   \n",
       "2  0.9536  0.3766        95  7578348615  15.633333        6.0           4.0   \n",
       "3  0.6733  0.8339        82  1273954023  11.366667        6.0          18.0   \n",
       "4  0.8700  0.0681        65  7131826933   8.133333        2.0          20.0   \n",
       "\n",
       "   dayofyear  \n",
       "0       12.0  \n",
       "1      108.0  \n",
       "2       89.0  \n",
       "3      103.0  \n",
       "4       15.0  "
      ]
     },
     "execution_count": 5,
     "metadata": {},
     "output_type": "execute_result"
    }
   ],
   "source": [
    "df_cell_train = df_cell_train.reset_index().drop('index', axis = 1)\n",
    "df_cell_train.head()"
   ]
  },
  {
   "cell_type": "code",
   "execution_count": 6,
   "metadata": {},
   "outputs": [
    {
     "data": {
      "text/html": [
       "<div>\n",
       "<style>\n",
       "    .dataframe thead tr:only-child th {\n",
       "        text-align: right;\n",
       "    }\n",
       "\n",
       "    .dataframe thead th {\n",
       "        text-align: left;\n",
       "    }\n",
       "\n",
       "    .dataframe tbody tr th {\n",
       "        vertical-align: top;\n",
       "    }\n",
       "</style>\n",
       "<table border=\"1\" class=\"dataframe\">\n",
       "  <thead>\n",
       "    <tr style=\"text-align: right;\">\n",
       "      <th></th>\n",
       "      <th>x</th>\n",
       "      <th>y</th>\n",
       "      <th>accuracy</th>\n",
       "      <th>place_id</th>\n",
       "      <th>hour</th>\n",
       "      <th>dayofweek</th>\n",
       "      <th>day of month</th>\n",
       "      <th>dayofyear</th>\n",
       "      <th>hour_mean</th>\n",
       "      <th>dayofmonth_mean</th>\n",
       "      <th>x_mean</th>\n",
       "    </tr>\n",
       "  </thead>\n",
       "  <tbody>\n",
       "    <tr>\n",
       "      <th>0</th>\n",
       "      <td>0.0179</td>\n",
       "      <td>0.2321</td>\n",
       "      <td>67</td>\n",
       "      <td>8050782732</td>\n",
       "      <td>8.383333</td>\n",
       "      <td>6.0</td>\n",
       "      <td>17.0</td>\n",
       "      <td>12.0</td>\n",
       "      <td>7.156316</td>\n",
       "      <td>16.450877</td>\n",
       "      <td>0.035265</td>\n",
       "    </tr>\n",
       "    <tr>\n",
       "      <th>1</th>\n",
       "      <td>0.2865</td>\n",
       "      <td>0.2629</td>\n",
       "      <td>69</td>\n",
       "      <td>8050782732</td>\n",
       "      <td>9.483333</td>\n",
       "      <td>2.0</td>\n",
       "      <td>3.0</td>\n",
       "      <td>303.0</td>\n",
       "      <td>7.156316</td>\n",
       "      <td>16.450877</td>\n",
       "      <td>0.035265</td>\n",
       "    </tr>\n",
       "    <tr>\n",
       "      <th>2</th>\n",
       "      <td>0.0156</td>\n",
       "      <td>0.2120</td>\n",
       "      <td>167</td>\n",
       "      <td>8050782732</td>\n",
       "      <td>5.866667</td>\n",
       "      <td>3.0</td>\n",
       "      <td>18.0</td>\n",
       "      <td>108.0</td>\n",
       "      <td>7.156316</td>\n",
       "      <td>16.450877</td>\n",
       "      <td>0.035265</td>\n",
       "    </tr>\n",
       "    <tr>\n",
       "      <th>3</th>\n",
       "      <td>0.0202</td>\n",
       "      <td>0.2049</td>\n",
       "      <td>51</td>\n",
       "      <td>8050782732</td>\n",
       "      <td>8.666667</td>\n",
       "      <td>4.0</td>\n",
       "      <td>28.0</td>\n",
       "      <td>298.0</td>\n",
       "      <td>7.156316</td>\n",
       "      <td>16.450877</td>\n",
       "      <td>0.035265</td>\n",
       "    </tr>\n",
       "    <tr>\n",
       "      <th>4</th>\n",
       "      <td>0.0201</td>\n",
       "      <td>0.1937</td>\n",
       "      <td>82</td>\n",
       "      <td>8050782732</td>\n",
       "      <td>6.766667</td>\n",
       "      <td>7.0</td>\n",
       "      <td>22.0</td>\n",
       "      <td>322.0</td>\n",
       "      <td>7.156316</td>\n",
       "      <td>16.450877</td>\n",
       "      <td>0.035265</td>\n",
       "    </tr>\n",
       "  </tbody>\n",
       "</table>\n",
       "</div>"
      ],
      "text/plain": [
       "        x       y  accuracy    place_id      hour  dayofweek  day of month  \\\n",
       "0  0.0179  0.2321        67  8050782732  8.383333        6.0          17.0   \n",
       "1  0.2865  0.2629        69  8050782732  9.483333        2.0           3.0   \n",
       "2  0.0156  0.2120       167  8050782732  5.866667        3.0          18.0   \n",
       "3  0.0202  0.2049        51  8050782732  8.666667        4.0          28.0   \n",
       "4  0.0201  0.1937        82  8050782732  6.766667        7.0          22.0   \n",
       "\n",
       "   dayofyear  hour_mean  dayofmonth_mean    x_mean  \n",
       "0       12.0   7.156316        16.450877  0.035265  \n",
       "1      303.0   7.156316        16.450877  0.035265  \n",
       "2      108.0   7.156316        16.450877  0.035265  \n",
       "3      298.0   7.156316        16.450877  0.035265  \n",
       "4      322.0   7.156316        16.450877  0.035265  "
      ]
     },
     "execution_count": 6,
     "metadata": {},
     "output_type": "execute_result"
    }
   ],
   "source": [
    "######################## day of hour   ####################\n",
    "\n",
    "mean_hour = pd.DataFrame(df_cell_train.groupby('place_id')['hour'].mean())\n",
    "mean_hour.columns = ['hour_mean']\n",
    "mean_hour['place_id_unique'] = mean_hour.index\n",
    "mean_hour = mean_hour.reset_index(drop = True)\n",
    "mean_hour[['place_id_unique']].join(mean_hour[['hour_mean']])\n",
    "\n",
    "df_cell_train = df_cell_train.merge(mean_hour, left_on='place_id', right_on = 'place_id_unique')\n",
    "df_cell_train = df_cell_train.drop('place_id_unique', axis = 1)\n",
    "\n",
    "\n",
    "############################# day of month mean ########################\n",
    "\n",
    "mean_month = pd.DataFrame(df_cell_train.groupby('place_id')['day of month'].mean())\n",
    "mean_month.columns = ['dayofmonth_mean']\n",
    "mean_month['place_id_unique'] = mean_month.index\n",
    "mean_month = mean_month.reset_index(drop = True)\n",
    "mean_month[['place_id_unique']].join(mean_month[['dayofmonth_mean']])\n",
    "\n",
    "df_cell_train = df_cell_train.merge(mean_month, left_on='place_id', right_on = 'place_id_unique')\n",
    "df_cell_train = df_cell_train.drop('place_id_unique', axis = 1)\n",
    "\n",
    "\n",
    "\n",
    "##############################    add some features of mean of X     ###############\n",
    "\n",
    "mean_x = df_cell_train.groupby('place_id')['x'].mean()\n",
    "mean_x = pd.DataFrame(mean_x)\n",
    "mean_x.columns = ['x_mean']\n",
    "mean_x['place_id_unique'] = mean_x.index\n",
    "mean_x = mean_x.reset_index(drop=True)\n",
    "mean_x[[\"place_id_unique\"]].join(mean_x[['x_mean']])\n",
    "\n",
    "df_cell_train = df_cell_train.merge(mean_x, left_on='place_id', right_on = 'place_id_unique')\n",
    "df_cell_train = df_cell_train.drop('place_id_unique', axis = 1)\n",
    "\n",
    "df_cell_train.head()"
   ]
  },
  {
   "cell_type": "code",
   "execution_count": 7,
   "metadata": {
    "collapsed": true
   },
   "outputs": [],
   "source": [
    "#############   create range for accuracy   ##########\n",
    "\n",
    "df_accuracy = df_cell_train.accuracy\n",
    "\n",
    "df_cell_train['range_accuracy'] = df_cell_train['accuracy'].apply(lambda x: 0 if x < 40 else (1 if x >= 40 and x < 80 else 2))"
   ]
  },
  {
   "cell_type": "code",
   "execution_count": 8,
   "metadata": {},
   "outputs": [
    {
     "data": {
      "text/html": [
       "<div>\n",
       "<style>\n",
       "    .dataframe thead tr:only-child th {\n",
       "        text-align: right;\n",
       "    }\n",
       "\n",
       "    .dataframe thead th {\n",
       "        text-align: left;\n",
       "    }\n",
       "\n",
       "    .dataframe tbody tr th {\n",
       "        vertical-align: top;\n",
       "    }\n",
       "</style>\n",
       "<table border=\"1\" class=\"dataframe\">\n",
       "  <thead>\n",
       "    <tr style=\"text-align: right;\">\n",
       "      <th></th>\n",
       "      <th>x</th>\n",
       "      <th>y</th>\n",
       "      <th>accuracy</th>\n",
       "      <th>place_id</th>\n",
       "      <th>hour</th>\n",
       "      <th>dayofweek</th>\n",
       "      <th>day of month</th>\n",
       "      <th>dayofyear</th>\n",
       "      <th>hour_mean</th>\n",
       "      <th>dayofmonth_mean</th>\n",
       "      <th>x_mean</th>\n",
       "      <th>range_accuracy</th>\n",
       "    </tr>\n",
       "  </thead>\n",
       "  <tbody>\n",
       "    <tr>\n",
       "      <th>0</th>\n",
       "      <td>0.0179</td>\n",
       "      <td>0.2321</td>\n",
       "      <td>67</td>\n",
       "      <td>8050782732</td>\n",
       "      <td>8.383333</td>\n",
       "      <td>6.0</td>\n",
       "      <td>17.0</td>\n",
       "      <td>12.0</td>\n",
       "      <td>7.156316</td>\n",
       "      <td>16.450877</td>\n",
       "      <td>0.035265</td>\n",
       "      <td>1</td>\n",
       "    </tr>\n",
       "    <tr>\n",
       "      <th>1</th>\n",
       "      <td>0.2865</td>\n",
       "      <td>0.2629</td>\n",
       "      <td>69</td>\n",
       "      <td>8050782732</td>\n",
       "      <td>9.483333</td>\n",
       "      <td>2.0</td>\n",
       "      <td>3.0</td>\n",
       "      <td>303.0</td>\n",
       "      <td>7.156316</td>\n",
       "      <td>16.450877</td>\n",
       "      <td>0.035265</td>\n",
       "      <td>1</td>\n",
       "    </tr>\n",
       "    <tr>\n",
       "      <th>2</th>\n",
       "      <td>0.0156</td>\n",
       "      <td>0.2120</td>\n",
       "      <td>167</td>\n",
       "      <td>8050782732</td>\n",
       "      <td>5.866667</td>\n",
       "      <td>3.0</td>\n",
       "      <td>18.0</td>\n",
       "      <td>108.0</td>\n",
       "      <td>7.156316</td>\n",
       "      <td>16.450877</td>\n",
       "      <td>0.035265</td>\n",
       "      <td>2</td>\n",
       "    </tr>\n",
       "    <tr>\n",
       "      <th>3</th>\n",
       "      <td>0.0202</td>\n",
       "      <td>0.2049</td>\n",
       "      <td>51</td>\n",
       "      <td>8050782732</td>\n",
       "      <td>8.666667</td>\n",
       "      <td>4.0</td>\n",
       "      <td>28.0</td>\n",
       "      <td>298.0</td>\n",
       "      <td>7.156316</td>\n",
       "      <td>16.450877</td>\n",
       "      <td>0.035265</td>\n",
       "      <td>1</td>\n",
       "    </tr>\n",
       "    <tr>\n",
       "      <th>4</th>\n",
       "      <td>0.0201</td>\n",
       "      <td>0.1937</td>\n",
       "      <td>82</td>\n",
       "      <td>8050782732</td>\n",
       "      <td>6.766667</td>\n",
       "      <td>7.0</td>\n",
       "      <td>22.0</td>\n",
       "      <td>322.0</td>\n",
       "      <td>7.156316</td>\n",
       "      <td>16.450877</td>\n",
       "      <td>0.035265</td>\n",
       "      <td>2</td>\n",
       "    </tr>\n",
       "  </tbody>\n",
       "</table>\n",
       "</div>"
      ],
      "text/plain": [
       "        x       y  accuracy    place_id      hour  dayofweek  day of month  \\\n",
       "0  0.0179  0.2321        67  8050782732  8.383333        6.0          17.0   \n",
       "1  0.2865  0.2629        69  8050782732  9.483333        2.0           3.0   \n",
       "2  0.0156  0.2120       167  8050782732  5.866667        3.0          18.0   \n",
       "3  0.0202  0.2049        51  8050782732  8.666667        4.0          28.0   \n",
       "4  0.0201  0.1937        82  8050782732  6.766667        7.0          22.0   \n",
       "\n",
       "   dayofyear  hour_mean  dayofmonth_mean    x_mean  range_accuracy  \n",
       "0       12.0   7.156316        16.450877  0.035265               1  \n",
       "1      303.0   7.156316        16.450877  0.035265               1  \n",
       "2      108.0   7.156316        16.450877  0.035265               2  \n",
       "3      298.0   7.156316        16.450877  0.035265               1  \n",
       "4      322.0   7.156316        16.450877  0.035265               2  "
      ]
     },
     "execution_count": 8,
     "metadata": {},
     "output_type": "execute_result"
    }
   ],
   "source": [
    "df_cell_train.head()"
   ]
  },
  {
   "cell_type": "code",
   "execution_count": 1,
   "metadata": {},
   "outputs": [
    {
     "ename": "NameError",
     "evalue": "name 'sns' is not defined",
     "output_type": "error",
     "traceback": [
      "\u001b[0;31m---------------------------------------------------------------------------\u001b[0m",
      "\u001b[0;31mNameError\u001b[0m                                 Traceback (most recent call last)",
      "\u001b[0;32m<ipython-input-1-3906241ba8fe>\u001b[0m in \u001b[0;36m<module>\u001b[0;34m()\u001b[0m\n\u001b[1;32m      1\u001b[0m \u001b[0;31m## density plot of hour, week, month, year\u001b[0m\u001b[0;34m\u001b[0m\u001b[0;34m\u001b[0m\u001b[0m\n\u001b[1;32m      2\u001b[0m \u001b[0;34m\u001b[0m\u001b[0m\n\u001b[0;32m----> 3\u001b[0;31m \u001b[0msns\u001b[0m\u001b[0;34m.\u001b[0m\u001b[0mdistplot\u001b[0m\u001b[0;34m(\u001b[0m\u001b[0mdf_cell_train\u001b[0m\u001b[0;34m[\u001b[0m\u001b[0;34m'dayofweek'\u001b[0m\u001b[0;34m]\u001b[0m\u001b[0;34m,\u001b[0m \u001b[0mhist\u001b[0m \u001b[0;34m=\u001b[0m \u001b[0;32mFalse\u001b[0m\u001b[0;34m,\u001b[0m \u001b[0mkde\u001b[0m \u001b[0;34m=\u001b[0m \u001b[0;32mTrue\u001b[0m\u001b[0;34m,\u001b[0m \u001b[0mkde_kws\u001b[0m \u001b[0;34m=\u001b[0m \u001b[0;34m{\u001b[0m\u001b[0;34m'shade'\u001b[0m\u001b[0;34m:\u001b[0m \u001b[0;32mTrue\u001b[0m\u001b[0;34m,\u001b[0m \u001b[0;34m'linewidth'\u001b[0m\u001b[0;34m:\u001b[0m \u001b[0;36m3\u001b[0m\u001b[0;34m}\u001b[0m\u001b[0;34m)\u001b[0m\u001b[0;34m\u001b[0m\u001b[0m\n\u001b[0m",
      "\u001b[0;31mNameError\u001b[0m: name 'sns' is not defined"
     ]
    }
   ],
   "source": [
    "## density plot of hour, week, month, year\n",
    "\n",
    "sns.distplot(df_cell_train['dayofweek'], hist = False, kde = True, kde_kws = {'shade': True, 'linewidth': 3})"
   ]
  },
  {
   "cell_type": "code",
   "execution_count": 10,
   "metadata": {},
   "outputs": [
    {
     "name": "stderr",
     "output_type": "stream",
     "text": [
      "/Users/aoxu/anaconda/lib/python3.6/site-packages/scipy/stats/stats.py:1706: FutureWarning: Using a non-tuple sequence for multidimensional indexing is deprecated; use `arr[tuple(seq)]` instead of `arr[seq]`. In the future this will be interpreted as an array index, `arr[np.array(seq)]`, which will result either in an error or a different result.\n",
      "  return np.add.reduce(sorted[indexer] * weights, axis=axis) / sumval\n"
     ]
    },
    {
     "data": {
      "text/plain": [
       "<matplotlib.axes._subplots.AxesSubplot at 0x1a22495ef0>"
      ]
     },
     "execution_count": 10,
     "metadata": {},
     "output_type": "execute_result"
    },
    {
     "data": {
      "image/png": "[encoded data removed]",
      "text/plain": [
       "<matplotlib.figure.Figure at 0x10c0c7048>"
      ]
     },
     "metadata": {},
     "output_type": "display_data"
    }
   ],
   "source": [
    "sns.distplot(df_cell_train['dayofyear'], hist = False, kde = True, kde_kws = {'shade': True, 'linewidth': 3})"
   ]
  },
  {
   "cell_type": "markdown",
   "metadata": {},
   "source": [
    "# split data"
   ]
  },
  {
   "cell_type": "markdown",
   "metadata": {},
   "source": []
  },
  {
   "cell_type": "code",
   "execution_count": 11,
   "metadata": {
    "collapsed": true
   },
   "outputs": [],
   "source": [
    "X = df_cell_train.drop('place_id', axis = 1)\n",
    "\n",
    "y = pd.DataFrame(df_cell_train.place_id)"
   ]
  },
  {
   "cell_type": "code",
   "execution_count": 12,
   "metadata": {
    "collapsed": true
   },
   "outputs": [],
   "source": [
    "# normalize the dataset\n",
    "\n",
    "from sklearn import preprocessing\n",
    "\n",
    "min_max_scaler = preprocessing.MinMaxScaler()\n",
    "np_scaled = min_max_scaler.fit_transform(X)\n",
    "df_normalized = pd.DataFrame(np_scaled)\n",
    "df_normalized"
   ]
  },
  {
   "cell_type": "code",
   "execution_count": 96,
   "metadata": {
    "scrolled": true
   },
   "outputs": [
    {
     "data": {
      "image/png": "[encoded data removed]",
      "text/plain": [
       "<matplotlib.figure.Figure at 0x1a24babe48>"
      ]
     },
     "metadata": {},
     "output_type": "display_data"
    }
   ],
   "source": [
    "## plot a corrleation matric of these features\n",
    "\n",
    "corr = df_normalized.corr()\n",
    "corr\n",
    "\n",
    "fig = plt.figure(figsize = (10, 10))\n",
    "ax = fig.add_subplot(111)\n",
    "cax = ax.matshow(corr, cmap = 'coolwarm', vmin = -1, vmax = 1)\n",
    "fig.colorbar(cax)\n",
    "ticks = np.arange(0, len(X.columns), 1)\n",
    "ax.set_xticks(ticks)\n",
    "ax.set_yticks(ticks)\n",
    "ax.set_xticklabels(X.columns)\n",
    "ax.set_yticklabels(X.columns)\n",
    "plt.show()"
   ]
  },
  {
   "cell_type": "code",
   "execution_count": 14,
   "metadata": {},
   "outputs": [
    {
     "data": {
      "text/html": [
       "<div>\n",
       "<style>\n",
       "    .dataframe thead tr:only-child th {\n",
       "        text-align: right;\n",
       "    }\n",
       "\n",
       "    .dataframe thead th {\n",
       "        text-align: left;\n",
       "    }\n",
       "\n",
       "    .dataframe tbody tr th {\n",
       "        vertical-align: top;\n",
       "    }\n",
       "</style>\n",
       "<table border=\"1\" class=\"dataframe\">\n",
       "  <thead>\n",
       "    <tr style=\"text-align: right;\">\n",
       "      <th></th>\n",
       "      <th>x</th>\n",
       "      <th>y</th>\n",
       "      <th>accuracy</th>\n",
       "      <th>hour</th>\n",
       "      <th>dayofweek</th>\n",
       "      <th>day of month</th>\n",
       "      <th>dayofyear</th>\n",
       "      <th>hour_mean</th>\n",
       "      <th>dayofmonth_mean</th>\n",
       "      <th>x_mean</th>\n",
       "      <th>range_accuracy</th>\n",
       "    </tr>\n",
       "  </thead>\n",
       "  <tbody>\n",
       "    <tr>\n",
       "      <th>0</th>\n",
       "      <td>0.0179</td>\n",
       "      <td>0.2321</td>\n",
       "      <td>67</td>\n",
       "      <td>8.383333</td>\n",
       "      <td>6.0</td>\n",
       "      <td>17.0</td>\n",
       "      <td>12.0</td>\n",
       "      <td>7.156316</td>\n",
       "      <td>16.450877</td>\n",
       "      <td>0.035265</td>\n",
       "      <td>1</td>\n",
       "    </tr>\n",
       "    <tr>\n",
       "      <th>1</th>\n",
       "      <td>0.2865</td>\n",
       "      <td>0.2629</td>\n",
       "      <td>69</td>\n",
       "      <td>9.483333</td>\n",
       "      <td>2.0</td>\n",
       "      <td>3.0</td>\n",
       "      <td>303.0</td>\n",
       "      <td>7.156316</td>\n",
       "      <td>16.450877</td>\n",
       "      <td>0.035265</td>\n",
       "      <td>1</td>\n",
       "    </tr>\n",
       "    <tr>\n",
       "      <th>2</th>\n",
       "      <td>0.0156</td>\n",
       "      <td>0.2120</td>\n",
       "      <td>167</td>\n",
       "      <td>5.866667</td>\n",
       "      <td>3.0</td>\n",
       "      <td>18.0</td>\n",
       "      <td>108.0</td>\n",
       "      <td>7.156316</td>\n",
       "      <td>16.450877</td>\n",
       "      <td>0.035265</td>\n",
       "      <td>2</td>\n",
       "    </tr>\n",
       "    <tr>\n",
       "      <th>3</th>\n",
       "      <td>0.0202</td>\n",
       "      <td>0.2049</td>\n",
       "      <td>51</td>\n",
       "      <td>8.666667</td>\n",
       "      <td>4.0</td>\n",
       "      <td>28.0</td>\n",
       "      <td>298.0</td>\n",
       "      <td>7.156316</td>\n",
       "      <td>16.450877</td>\n",
       "      <td>0.035265</td>\n",
       "      <td>1</td>\n",
       "    </tr>\n",
       "    <tr>\n",
       "      <th>4</th>\n",
       "      <td>0.0201</td>\n",
       "      <td>0.1937</td>\n",
       "      <td>82</td>\n",
       "      <td>6.766667</td>\n",
       "      <td>7.0</td>\n",
       "      <td>22.0</td>\n",
       "      <td>322.0</td>\n",
       "      <td>7.156316</td>\n",
       "      <td>16.450877</td>\n",
       "      <td>0.035265</td>\n",
       "      <td>2</td>\n",
       "    </tr>\n",
       "  </tbody>\n",
       "</table>\n",
       "</div>"
      ],
      "text/plain": [
       "        x       y  accuracy      hour  dayofweek  day of month  dayofyear  \\\n",
       "0  0.0179  0.2321        67  8.383333        6.0          17.0       12.0   \n",
       "1  0.2865  0.2629        69  9.483333        2.0           3.0      303.0   \n",
       "2  0.0156  0.2120       167  5.866667        3.0          18.0      108.0   \n",
       "3  0.0202  0.2049        51  8.666667        4.0          28.0      298.0   \n",
       "4  0.0201  0.1937        82  6.766667        7.0          22.0      322.0   \n",
       "\n",
       "   hour_mean  dayofmonth_mean    x_mean  range_accuracy  \n",
       "0   7.156316        16.450877  0.035265               1  \n",
       "1   7.156316        16.450877  0.035265               1  \n",
       "2   7.156316        16.450877  0.035265               2  \n",
       "3   7.156316        16.450877  0.035265               1  \n",
       "4   7.156316        16.450877  0.035265               2  "
      ]
     },
     "execution_count": 14,
     "metadata": {},
     "output_type": "execute_result"
    }
   ],
   "source": [
    "X.head()"
   ]
  },
  {
   "cell_type": "code",
   "execution_count": 33,
   "metadata": {
    "collapsed": true
   },
   "outputs": [],
   "source": [
    "#  use k means cluster data points as a new feature \n",
    "\n",
    "from sklearn.cluster import KMeans\n",
    "\n",
    "kmeans = KMeans(n_clusters = 100)\n",
    "kmeans = kmeans.fit(X)\n",
    "labels = kmeans.predict(X) "
   ]
  },
  {
   "cell_type": "code",
   "execution_count": null,
   "metadata": {
    "collapsed": true
   },
   "outputs": [],
   "source": [
    "labels = pd.DataFrame(labels,columns=['cluster1'])\n",
    "X_new = pd.concat([X, labels], axis = 1)\n",
    "\n",
    "df_cell_train = df_cell_train.drop('place_id', axis = 1)\n",
    "X_new"
   ]
  },
  {
   "cell_type": "code",
   "execution_count": 15,
   "metadata": {},
   "outputs": [
    {
     "name": "stdout",
     "output_type": "stream",
     "text": [
      "(148524, 11) (148524, 1)\n",
      "(37131, 11) (37131, 1)\n"
     ]
    }
   ],
   "source": [
    "# train, test split \n",
    "\n",
    "from sklearn.model_selection import train_test_split\n",
    "\n",
    "X_train, X_test, y_train, y_test = train_test_split(X, y, test_size = 0.2)\n",
    "print(X_train.shape, y_train.shape)\n",
    "print(X_test.shape, y_test.shape)"
   ]
  },
  {
   "cell_type": "code",
   "execution_count": 16,
   "metadata": {},
   "outputs": [
    {
     "name": "stderr",
     "output_type": "stream",
     "text": [
      "/Users/aoxu/anaconda/lib/python3.6/site-packages/sklearn/preprocessing/label.py:111: DataConversionWarning: A column-vector y was passed when a 1d array was expected. Please change the shape of y to (n_samples, ), for example using ravel().\n",
      "  y = column_or_1d(y, warn=True)\n"
     ]
    }
   ],
   "source": [
    "## prepare data\n",
    "\n",
    "from sklearn.preprocessing import LabelEncoder\n",
    "\n",
    "le = LabelEncoder()\n",
    "y_train = le.fit_transform(y_train)\n",
    "X_train = X_train.values.astype(float)\n",
    "X_test = X_test.values.astype(float) \n",
    "y_test = le.fit_transform(y_test)"
   ]
  },
  {
   "cell_type": "markdown",
   "metadata": {},
   "source": [
    "# KNN"
   ]
  },
  {
   "cell_type": "code",
   "execution_count": 17,
   "metadata": {},
   "outputs": [
    {
     "data": {
      "text/plain": [
       "KNeighborsClassifier(algorithm='auto', leaf_size=30, metric='manhattan',\n",
       "           metric_params=None, n_jobs=1, n_neighbors=2500, p=2,\n",
       "           weights='distance')"
      ]
     },
     "execution_count": 17,
     "metadata": {},
     "output_type": "execute_result"
    }
   ],
   "source": [
    "from sklearn.neighbors import KNeighborsClassifier\n",
    "\n",
    "classifier = KNeighborsClassifier(n_neighbors = 2500 , weights = 'distance', metric = 'manhattan', n_jobs = 1, p = 2)\n",
    "classifier.fit(X_train, y_train)\n",
    "\n",
    "#training_time = time.clock() - start"
   ]
  },
  {
   "cell_type": "code",
   "execution_count": 18,
   "metadata": {
    "collapsed": true
   },
   "outputs": [],
   "source": [
    "y_pred_knn = classifier.predict(X_test)"
   ]
  },
  {
   "cell_type": "code",
   "execution_count": 19,
   "metadata": {},
   "outputs": [
    {
     "name": "stdout",
     "output_type": "stream",
     "text": [
      "accuracy: 0.11141633675365598\n"
     ]
    }
   ],
   "source": [
    "from sklearn import metrics\n",
    "\n",
    "print('accuracy:', metrics.accuracy_score(y_test, y_pred_knn))"
   ]
  },
  {
   "cell_type": "code",
   "execution_count": 112,
   "metadata": {},
   "outputs": [
    {
     "name": "stderr",
     "output_type": "stream",
     "text": [
      "/Users/aoxu/anaconda/lib/python3.6/site-packages/sklearn/model_selection/_validation.py:458: DataConversionWarning: A column-vector y was passed when a 1d array was expected. Please change the shape of y to (n_samples, ), for example using ravel().\n",
      "  estimator.fit(X_train, y_train, **fit_params)\n",
      "/Users/aoxu/anaconda/lib/python3.6/site-packages/sklearn/model_selection/_validation.py:458: DataConversionWarning: A column-vector y was passed when a 1d array was expected. Please change the shape of y to (n_samples, ), for example using ravel().\n",
      "  estimator.fit(X_train, y_train, **fit_params)\n",
      "/Users/aoxu/anaconda/lib/python3.6/site-packages/sklearn/model_selection/_validation.py:458: DataConversionWarning: A column-vector y was passed when a 1d array was expected. Please change the shape of y to (n_samples, ), for example using ravel().\n",
      "  estimator.fit(X_train, y_train, **fit_params)\n",
      "/Users/aoxu/anaconda/lib/python3.6/site-packages/sklearn/model_selection/_validation.py:458: DataConversionWarning: A column-vector y was passed when a 1d array was expected. Please change the shape of y to (n_samples, ), for example using ravel().\n",
      "  estimator.fit(X_train, y_train, **fit_params)\n",
      "/Users/aoxu/anaconda/lib/python3.6/site-packages/sklearn/model_selection/_validation.py:458: DataConversionWarning: A column-vector y was passed when a 1d array was expected. Please change the shape of y to (n_samples, ), for example using ravel().\n",
      "  estimator.fit(X_train, y_train, **fit_params)\n"
     ]
    },
    {
     "name": "stdout",
     "output_type": "stream",
     "text": [
      "cross-validate score: [0.13668293 0.13408407 0.13542705 0.13305799 0.13870409]\n"
     ]
    }
   ],
   "source": [
    "#### let`s try the cross validation do the parameter tuning \n",
    "\n",
    "# create odd list of K for cross validation\n",
    "\n",
    "scores = cross_val_score(classifier, X, y, cv = 5)\n",
    "print('cross-validate score:', scores)"
   ]
  },
  {
   "cell_type": "markdown",
   "metadata": {},
   "source": []
  },
  {
   "cell_type": "markdown",
   "metadata": {},
   "source": [
    "# Random forest"
   ]
  },
  {
   "cell_type": "code",
   "execution_count": 67,
   "metadata": {
    "collapsed": true
   },
   "outputs": [],
   "source": [
    "###### random forest #######\n",
    "\n",
    "from sklearn.ensemble import RandomForestClassifier\n",
    "\n",
    "# create a gaussian classifier\n",
    "\n",
    "#rf = RandomForestClassifier(n_estimators = 10)\n",
    "\n",
    "#rf.fit(X_train, y_train)\n",
    "\n",
    "#y_pred_rf = rf.predict(X_test)\n",
    "\n",
    "def modelfit(rf, X_train, y_train, performCV = True, printFeatureImportance = True, cv_folds = 5):\n",
    "    # fit the algorithm on the data\n",
    "    rf.fit(X_train, y_train)\n",
    "    \n",
    "    # predict training set\n",
    "    y_pred_gb = alg.predict(X_train)\n",
    "    y_pred_prob = alg.predict_proba(X_train)\n",
    "    \n",
    "    # perform cross-validation\n",
    "    if performCV:\n",
    "        cv_score = cross_validation.cross_val_score(rf, X_train, y_train, cv = cv_folds, scoring = 'roc_auc')\n",
    "        \n",
    "    # print model report\n",
    "    print('accuracy:'% metrics.accuracy_score(y_train, y_pred_gb))\n",
    "    print('auc score:'% metrics.roc_auc_score(y_train, y_pred_prob))\n",
    "    \n",
    "    # print feature importance\n",
    "    if printFeatureImportance:\n",
    "        feat_imp = pd.Series(rf.feature_importances_, X_train).sort_values(ascending = False)\n",
    "        feat_imp.plot(kind = 'bar', title = 'features importance')\n",
    "        plt.ylabel('feature importance score')"
   ]
  },
  {
   "cell_type": "code",
   "execution_count": 21,
   "metadata": {},
   "outputs": [
    {
     "name": "stderr",
     "output_type": "stream",
     "text": [
      "/Users/aoxu/anaconda/lib/python3.6/site-packages/sklearn/ensemble/weight_boosting.py:29: DeprecationWarning: numpy.core.umath_tests is an internal NumPy module and should not be imported. It will be removed in a future NumPy release.\n",
      "  from numpy.core.umath_tests import inner1d\n"
     ]
    },
    {
     "data": {
      "text/plain": [
       "RandomForestClassifier(bootstrap=True, class_weight=None, criterion='entropy',\n",
       "            max_depth=3, max_features='auto', max_leaf_nodes=None,\n",
       "            min_impurity_decrease=0.0, min_impurity_split=None,\n",
       "            min_samples_leaf=1, min_samples_split=2,\n",
       "            min_weight_fraction_leaf=0.0, n_estimators=50, n_jobs=1,\n",
       "            oob_score=False, random_state=42, verbose=0, warm_start=False)"
      ]
     },
     "execution_count": 21,
     "metadata": {},
     "output_type": "execute_result"
    }
   ],
   "source": [
    "from sklearn.ensemble import RandomForestClassifier\n",
    "\n",
    "rf = RandomForestClassifier(n_estimators = 50, criterion = 'entropy', random_state = 42, max_depth = 3, )\n",
    "rf.fit(X_train, y_train)"
   ]
  },
  {
   "cell_type": "code",
   "execution_count": 22,
   "metadata": {
    "collapsed": true
   },
   "outputs": [],
   "source": [
    "y_pred_rf = rf.predict(X_test)"
   ]
  },
  {
   "cell_type": "code",
   "execution_count": 23,
   "metadata": {},
   "outputs": [
    {
     "name": "stdout",
     "output_type": "stream",
     "text": [
      "accuracy: 0.3025234978858636\n"
     ]
    }
   ],
   "source": [
    "from sklearn import metrics\n",
    "\n",
    "print('accuracy:', metrics.accuracy_score(y_test, y_pred_rf))"
   ]
  },
  {
   "cell_type": "markdown",
   "metadata": {
    "collapsed": true
   },
   "source": [
    "# Naive Bayes"
   ]
  },
  {
   "cell_type": "code",
   "execution_count": 24,
   "metadata": {},
   "outputs": [
    {
     "data": {
      "text/plain": [
       "array([331, 316, 325, ..., 171,  59,  50])"
      ]
     },
     "execution_count": 24,
     "metadata": {},
     "output_type": "execute_result"
    }
   ],
   "source": [
    "from sklearn.naive_bayes import GaussianNB\n",
    "\n",
    "nb = GaussianNB()\n",
    "nb.fit(X_train, y_train)\n",
    "\n",
    "y_pred_NB = nb.predict(X_test)\n",
    "y_pred_NB"
   ]
  },
  {
   "cell_type": "code",
   "execution_count": 25,
   "metadata": {},
   "outputs": [
    {
     "name": "stdout",
     "output_type": "stream",
     "text": [
      "1.0\n"
     ]
    }
   ],
   "source": [
    "print(accuracy_score(y_test, y_pred_NB))"
   ]
  },
  {
   "cell_type": "code",
   "execution_count": 26,
   "metadata": {},
   "outputs": [
    {
     "data": {
      "text/plain": [
       "1.0"
      ]
     },
     "execution_count": 26,
     "metadata": {},
     "output_type": "execute_result"
    }
   ],
   "source": [
    "count = 0\n",
    "for i in range(len(y_pred_NB)):\n",
    "    if y_pred_NB[i] == y_test[i]:\n",
    "        count = count + 1\n",
    "acc = count/len(y_pred_NB)\n",
    "acc"
   ]
  },
  {
   "cell_type": "markdown",
   "metadata": {},
   "source": [
    "# Boosting "
   ]
  },
  {
   "cell_type": "code",
   "execution_count": 28,
   "metadata": {},
   "outputs": [
    {
     "name": "stdout",
     "output_type": "stream",
     "text": [
      "accuracy: 0.05531765909886618\n"
     ]
    }
   ],
   "source": [
    "# adaboost\n",
    "\n",
    "from sklearn.ensemble import AdaBoostClassifier\n",
    "from sklearn.tree import DecisionTreeClassifier\n",
    "\n",
    "model_dt = DecisionTreeClassifier(criterion = 'entropy', max_depth = 1)\n",
    "adaboost = AdaBoostClassifier(base_estimator = model_dt, n_estimators = 400, learning_rate = 1)\n",
    "adaboost.fit(X_train, y_train)\n",
    "y_pred_ada = adaboost.predict(X_test) \n",
    "\n",
    "print('accuracy:', metrics.accuracy_score(y_test, y_pred_ada))"
   ]
  },
  {
   "cell_type": "code",
   "execution_count": null,
   "metadata": {
    "collapsed": true
   },
   "outputs": [],
   "source": []
  },
  {
   "cell_type": "code",
   "execution_count": 53,
   "metadata": {
    "collapsed": true
   },
   "outputs": [],
   "source": [
    "from sklearn.ensemble import GradientBoostingClassifier \n",
    "from sklearn import cross_validation, metrics\n",
    "from sklearn.grid_search import GridSearchCV\n",
    "\n",
    "from matplotlib.pylab import rcParams\n",
    "rcParams['figure.figsize'] = 12, 4\n",
    "\n",
    "def modelfit(alg, X_train, y_train, performCV = True, printFeatureImportance = True, cv_folds = 5):\n",
    "    # fit the algorithm on the data\n",
    "    alg.fit(X_train, y_train)\n",
    "    \n",
    "    # predict training set\n",
    "    y_pred_gb = alg.predict(X_train)\n",
    "    y_pred_prob = alg.predict_proba(X_train)\n",
    "    \n",
    "    # perform cross-validation\n",
    "    if performCV:\n",
    "        cv_score = cross_validation.cross_val_score(alg, X_train, y_train, cv = cv_folds, scoring = 'roc_auc')\n",
    "        \n",
    "    # print model report\n",
    "    print('accuracy:'% metrics.accuracy_score(y_train, y_pred_gb))\n",
    "    print('auc score:'% metrics.roc_auc_score(y_train, y_pred_prob))\n",
    "    \n",
    "    # print feature importance\n",
    "    if printFeatureImportance:\n",
    "        feat_imp = pd.Series(alg.feature_importances_, X_train).sort_values(ascending = False)\n",
    "        feat_imp.plot(kind = 'bar', title = 'features importance')\n",
    "        plt.ylabel('feature importance score')\n"
   ]
  },
  {
   "cell_type": "code",
   "execution_count": 66,
   "metadata": {},
   "outputs": [
    {
     "name": "stderr",
     "output_type": "stream",
     "text": [
      "/Users/aoxu/anaconda/lib/python3.6/site-packages/sklearn/utils/validation.py:578: DataConversionWarning: A column-vector y was passed when a 1d array was expected. Please change the shape of y to (n_samples, ), for example using ravel().\n",
      "  y = column_or_1d(y, warn=True)\n"
     ]
    },
    {
     "ename": "KeyboardInterrupt",
     "evalue": "",
     "output_type": "error",
     "traceback": [
      "\u001b[0;31m---------------------------------------------------------------------------\u001b[0m",
      "\u001b[0;31mKeyboardInterrupt\u001b[0m                         Traceback (most recent call last)",
      "\u001b[0;32m<ipython-input-66-d3e30b1e4dba>\u001b[0m in \u001b[0;36m<module>\u001b[0;34m()\u001b[0m\n\u001b[1;32m      1\u001b[0m \u001b[0mgbm\u001b[0m \u001b[0;34m=\u001b[0m \u001b[0mGradientBoostingClassifier\u001b[0m\u001b[0;34m(\u001b[0m\u001b[0mrandom_state\u001b[0m \u001b[0;34m=\u001b[0m \u001b[0;36m10\u001b[0m\u001b[0;34m)\u001b[0m\u001b[0;34m\u001b[0m\u001b[0m\n\u001b[0;32m----> 2\u001b[0;31m \u001b[0mmodelfit\u001b[0m\u001b[0;34m(\u001b[0m\u001b[0mgbm\u001b[0m\u001b[0;34m,\u001b[0m \u001b[0mX_test\u001b[0m\u001b[0;34m,\u001b[0m \u001b[0my_test\u001b[0m\u001b[0;34m)\u001b[0m\u001b[0;34m\u001b[0m\u001b[0m\n\u001b[0m",
      "\u001b[0;32m<ipython-input-53-3520990530e2>\u001b[0m in \u001b[0;36mmodelfit\u001b[0;34m(alg, X_train, y_train, performCV, printFeatureImportance, cv_folds)\u001b[0m\n\u001b[1;32m      8\u001b[0m \u001b[0;32mdef\u001b[0m \u001b[0mmodelfit\u001b[0m\u001b[0;34m(\u001b[0m\u001b[0malg\u001b[0m\u001b[0;34m,\u001b[0m \u001b[0mX_train\u001b[0m\u001b[0;34m,\u001b[0m \u001b[0my_train\u001b[0m\u001b[0;34m,\u001b[0m \u001b[0mperformCV\u001b[0m \u001b[0;34m=\u001b[0m \u001b[0;32mTrue\u001b[0m\u001b[0;34m,\u001b[0m \u001b[0mprintFeatureImportance\u001b[0m \u001b[0;34m=\u001b[0m \u001b[0;32mTrue\u001b[0m\u001b[0;34m,\u001b[0m \u001b[0mcv_folds\u001b[0m \u001b[0;34m=\u001b[0m \u001b[0;36m5\u001b[0m\u001b[0;34m)\u001b[0m\u001b[0;34m:\u001b[0m\u001b[0;34m\u001b[0m\u001b[0m\n\u001b[1;32m      9\u001b[0m     \u001b[0;31m# fit the algorithm on the data\u001b[0m\u001b[0;34m\u001b[0m\u001b[0;34m\u001b[0m\u001b[0m\n\u001b[0;32m---> 10\u001b[0;31m     \u001b[0malg\u001b[0m\u001b[0;34m.\u001b[0m\u001b[0mfit\u001b[0m\u001b[0;34m(\u001b[0m\u001b[0mX_train\u001b[0m\u001b[0;34m,\u001b[0m \u001b[0my_train\u001b[0m\u001b[0;34m)\u001b[0m\u001b[0;34m\u001b[0m\u001b[0m\n\u001b[0m\u001b[1;32m     11\u001b[0m \u001b[0;34m\u001b[0m\u001b[0m\n\u001b[1;32m     12\u001b[0m     \u001b[0;31m# predict training set\u001b[0m\u001b[0;34m\u001b[0m\u001b[0;34m\u001b[0m\u001b[0m\n",
      "\u001b[0;32m/Users/aoxu/anaconda/lib/python3.6/site-packages/sklearn/ensemble/gradient_boosting.py\u001b[0m in \u001b[0;36mfit\u001b[0;34m(self, X, y, sample_weight, monitor)\u001b[0m\n\u001b[1;32m   1032\u001b[0m         \u001b[0;31m# fit the boosting stages\u001b[0m\u001b[0;34m\u001b[0m\u001b[0;34m\u001b[0m\u001b[0m\n\u001b[1;32m   1033\u001b[0m         n_stages = self._fit_stages(X, y, y_pred, sample_weight, random_state,\n\u001b[0;32m-> 1034\u001b[0;31m                                     begin_at_stage, monitor, X_idx_sorted)\n\u001b[0m\u001b[1;32m   1035\u001b[0m         \u001b[0;31m# change shape of arrays after fit (early-stopping or additional ests)\u001b[0m\u001b[0;34m\u001b[0m\u001b[0;34m\u001b[0m\u001b[0m\n\u001b[1;32m   1036\u001b[0m         \u001b[0;32mif\u001b[0m \u001b[0mn_stages\u001b[0m \u001b[0;34m!=\u001b[0m \u001b[0mself\u001b[0m\u001b[0;34m.\u001b[0m\u001b[0mestimators_\u001b[0m\u001b[0;34m.\u001b[0m\u001b[0mshape\u001b[0m\u001b[0;34m[\u001b[0m\u001b[0;36m0\u001b[0m\u001b[0;34m]\u001b[0m\u001b[0;34m:\u001b[0m\u001b[0;34m\u001b[0m\u001b[0m\n",
      "\u001b[0;32m/Users/aoxu/anaconda/lib/python3.6/site-packages/sklearn/ensemble/gradient_boosting.py\u001b[0m in \u001b[0;36m_fit_stages\u001b[0;34m(self, X, y, y_pred, sample_weight, random_state, begin_at_stage, monitor, X_idx_sorted)\u001b[0m\n\u001b[1;32m   1087\u001b[0m             y_pred = self._fit_stage(i, X, y, y_pred, sample_weight,\n\u001b[1;32m   1088\u001b[0m                                      \u001b[0msample_mask\u001b[0m\u001b[0;34m,\u001b[0m \u001b[0mrandom_state\u001b[0m\u001b[0;34m,\u001b[0m \u001b[0mX_idx_sorted\u001b[0m\u001b[0;34m,\u001b[0m\u001b[0;34m\u001b[0m\u001b[0m\n\u001b[0;32m-> 1089\u001b[0;31m                                      X_csc, X_csr)\n\u001b[0m\u001b[1;32m   1090\u001b[0m \u001b[0;34m\u001b[0m\u001b[0m\n\u001b[1;32m   1091\u001b[0m             \u001b[0;31m# track deviance (= loss)\u001b[0m\u001b[0;34m\u001b[0m\u001b[0;34m\u001b[0m\u001b[0m\n",
      "\u001b[0;32m/Users/aoxu/anaconda/lib/python3.6/site-packages/sklearn/ensemble/gradient_boosting.py\u001b[0m in \u001b[0;36m_fit_stage\u001b[0;34m(self, i, X, y, y_pred, sample_weight, sample_mask, random_state, X_idx_sorted, X_csc, X_csr)\u001b[0m\n\u001b[1;32m    760\u001b[0m \u001b[0;34m\u001b[0m\u001b[0m\n\u001b[1;32m    761\u001b[0m             residual = loss.negative_gradient(y, y_pred, k=k,\n\u001b[0;32m--> 762\u001b[0;31m                                               sample_weight=sample_weight)\n\u001b[0m\u001b[1;32m    763\u001b[0m \u001b[0;34m\u001b[0m\u001b[0m\n\u001b[1;32m    764\u001b[0m             \u001b[0;31m# induce regression tree on residuals\u001b[0m\u001b[0;34m\u001b[0m\u001b[0;34m\u001b[0m\u001b[0m\n",
      "\u001b[0;32m/Users/aoxu/anaconda/lib/python3.6/site-packages/sklearn/ensemble/gradient_boosting.py\u001b[0m in \u001b[0;36mnegative_gradient\u001b[0;34m(self, y, pred, k, **kwargs)\u001b[0m\n\u001b[1;32m    560\u001b[0m         \u001b[0;34m\"\"\"Compute negative gradient for the ``k``-th class. \"\"\"\u001b[0m\u001b[0;34m\u001b[0m\u001b[0m\n\u001b[1;32m    561\u001b[0m         return y - np.nan_to_num(np.exp(pred[:, k] -\n\u001b[0;32m--> 562\u001b[0;31m                                         logsumexp(pred, axis=1)))\n\u001b[0m\u001b[1;32m    563\u001b[0m \u001b[0;34m\u001b[0m\u001b[0m\n\u001b[1;32m    564\u001b[0m     def _update_terminal_region(self, tree, terminal_regions, leaf, X, y,\n",
      "\u001b[0;32m/Users/aoxu/anaconda/lib/python3.6/site-packages/scipy/special/_logsumexp.py\u001b[0m in \u001b[0;36mlogsumexp\u001b[0;34m(a, axis, b, keepdims, return_sign)\u001b[0m\n\u001b[1;32m    108\u001b[0m         \u001b[0mtmp\u001b[0m \u001b[0;34m=\u001b[0m \u001b[0mb\u001b[0m \u001b[0;34m*\u001b[0m \u001b[0mnp\u001b[0m\u001b[0;34m.\u001b[0m\u001b[0mexp\u001b[0m\u001b[0;34m(\u001b[0m\u001b[0ma\u001b[0m \u001b[0;34m-\u001b[0m \u001b[0ma_max\u001b[0m\u001b[0;34m)\u001b[0m\u001b[0;34m\u001b[0m\u001b[0m\n\u001b[1;32m    109\u001b[0m     \u001b[0;32melse\u001b[0m\u001b[0;34m:\u001b[0m\u001b[0;34m\u001b[0m\u001b[0m\n\u001b[0;32m--> 110\u001b[0;31m         \u001b[0mtmp\u001b[0m \u001b[0;34m=\u001b[0m \u001b[0mnp\u001b[0m\u001b[0;34m.\u001b[0m\u001b[0mexp\u001b[0m\u001b[0;34m(\u001b[0m\u001b[0ma\u001b[0m \u001b[0;34m-\u001b[0m \u001b[0ma_max\u001b[0m\u001b[0;34m)\u001b[0m\u001b[0;34m\u001b[0m\u001b[0m\n\u001b[0m\u001b[1;32m    111\u001b[0m \u001b[0;34m\u001b[0m\u001b[0m\n\u001b[1;32m    112\u001b[0m     \u001b[0;31m# suppress warnings about log of zero\u001b[0m\u001b[0;34m\u001b[0m\u001b[0;34m\u001b[0m\u001b[0m\n",
      "\u001b[0;31mKeyboardInterrupt\u001b[0m: "
     ]
    }
   ],
   "source": [
    "gbm = GradientBoostingClassifier(random_state = 10)\n",
    "modelfit(gbm, X_test, y_test)"
   ]
  },
  {
   "cell_type": "code",
   "execution_count": 30,
   "metadata": {},
   "outputs": [
    {
     "name": "stdout",
     "output_type": "stream",
     "text": [
      "accuracy: 0.9797204492203281\n"
     ]
    },
    {
     "name": "stderr",
     "output_type": "stream",
     "text": [
      "/Users/aoxu/anaconda/lib/python3.6/site-packages/sklearn/preprocessing/label.py:151: DeprecationWarning: The truth value of an empty array is ambiguous. Returning False, but in future this will result in an error. Use `array.size > 0` to check that an array is not empty.\n",
      "  if diff:\n"
     ]
    }
   ],
   "source": [
    "### XG boost\n",
    "\n",
    "import xgboost as xgb\n",
    "\n",
    "xg_class = xgb.XGBClassifier(colsample_bytree=0.3, learning_rate=0.1, max_depth=5, alpha = 10, n_estimators=10)\n",
    "xg_class.fit(X_train, y_train)\n",
    "\n",
    "y_pred_xgb = xg_class.predict(X_test)\n",
    "print('accuracy:', metrics.accuracy_score(y_test, y_pred_xgb))"
   ]
  },
  {
   "cell_type": "code",
   "execution_count": 31,
   "metadata": {},
   "outputs": [
    {
     "ename": "ImportError",
     "evalue": "You must install graphviz to plot tree",
     "output_type": "error",
     "traceback": [
      "\u001b[0;31m---------------------------------------------------------------------------\u001b[0m",
      "\u001b[0;31mModuleNotFoundError\u001b[0m                       Traceback (most recent call last)",
      "\u001b[0;32m/Users/aoxu/anaconda/lib/python3.6/site-packages/xgboost/plotting.py\u001b[0m in \u001b[0;36mto_graphviz\u001b[0;34m(booster, fmap, num_trees, rankdir, yes_color, no_color, **kwargs)\u001b[0m\n\u001b[1;32m    194\u001b[0m     \u001b[0;32mtry\u001b[0m\u001b[0;34m:\u001b[0m\u001b[0;34m\u001b[0m\u001b[0m\n\u001b[0;32m--> 195\u001b[0;31m         \u001b[0;32mfrom\u001b[0m \u001b[0mgraphviz\u001b[0m \u001b[0;32mimport\u001b[0m \u001b[0mDigraph\u001b[0m\u001b[0;34m\u001b[0m\u001b[0m\n\u001b[0m\u001b[1;32m    196\u001b[0m     \u001b[0;32mexcept\u001b[0m \u001b[0mImportError\u001b[0m\u001b[0;34m:\u001b[0m\u001b[0;34m\u001b[0m\u001b[0m\n",
      "\u001b[0;31mModuleNotFoundError\u001b[0m: No module named 'graphviz'",
      "\nDuring handling of the above exception, another exception occurred:\n",
      "\u001b[0;31mImportError\u001b[0m                               Traceback (most recent call last)",
      "\u001b[0;32m<ipython-input-31-1ba6123186af>\u001b[0m in \u001b[0;36m<module>\u001b[0;34m()\u001b[0m\n\u001b[1;32m      1\u001b[0m \u001b[0;31m# plot the tree\u001b[0m\u001b[0;34m\u001b[0m\u001b[0;34m\u001b[0m\u001b[0m\n\u001b[1;32m      2\u001b[0m \u001b[0;34m\u001b[0m\u001b[0m\n\u001b[0;32m----> 3\u001b[0;31m \u001b[0mxgb\u001b[0m\u001b[0;34m.\u001b[0m\u001b[0mplot_tree\u001b[0m\u001b[0;34m(\u001b[0m\u001b[0mxg_class\u001b[0m\u001b[0;34m,\u001b[0m \u001b[0mnum_trees\u001b[0m \u001b[0;34m=\u001b[0m \u001b[0;36m0\u001b[0m\u001b[0;34m)\u001b[0m\u001b[0;34m\u001b[0m\u001b[0m\n\u001b[0m\u001b[1;32m      4\u001b[0m \u001b[0mplt\u001b[0m\u001b[0;34m.\u001b[0m\u001b[0mrcParams\u001b[0m\u001b[0;34m[\u001b[0m\u001b[0;34m'figure.figsize'\u001b[0m\u001b[0;34m]\u001b[0m \u001b[0;34m=\u001b[0m \u001b[0;34m[\u001b[0m\u001b[0;36m50\u001b[0m\u001b[0;34m,\u001b[0m \u001b[0;36m10\u001b[0m\u001b[0;34m]\u001b[0m\u001b[0;34m\u001b[0m\u001b[0m\n\u001b[1;32m      5\u001b[0m \u001b[0mplt\u001b[0m\u001b[0;34m.\u001b[0m\u001b[0mshow\u001b[0m\u001b[0;34m(\u001b[0m\u001b[0;34m)\u001b[0m\u001b[0;34m\u001b[0m\u001b[0m\n",
      "\u001b[0;32m/Users/aoxu/anaconda/lib/python3.6/site-packages/xgboost/plotting.py\u001b[0m in \u001b[0;36mplot_tree\u001b[0;34m(booster, fmap, num_trees, rankdir, ax, **kwargs)\u001b[0m\n\u001b[1;32m    256\u001b[0m         \u001b[0m_\u001b[0m\u001b[0;34m,\u001b[0m \u001b[0max\u001b[0m \u001b[0;34m=\u001b[0m \u001b[0mplt\u001b[0m\u001b[0;34m.\u001b[0m\u001b[0msubplots\u001b[0m\u001b[0;34m(\u001b[0m\u001b[0;36m1\u001b[0m\u001b[0;34m,\u001b[0m \u001b[0;36m1\u001b[0m\u001b[0;34m)\u001b[0m\u001b[0;34m\u001b[0m\u001b[0m\n\u001b[1;32m    257\u001b[0m \u001b[0;34m\u001b[0m\u001b[0m\n\u001b[0;32m--> 258\u001b[0;31m     \u001b[0mg\u001b[0m \u001b[0;34m=\u001b[0m \u001b[0mto_graphviz\u001b[0m\u001b[0;34m(\u001b[0m\u001b[0mbooster\u001b[0m\u001b[0;34m,\u001b[0m \u001b[0mfmap\u001b[0m\u001b[0;34m=\u001b[0m\u001b[0mfmap\u001b[0m\u001b[0;34m,\u001b[0m \u001b[0mnum_trees\u001b[0m\u001b[0;34m=\u001b[0m\u001b[0mnum_trees\u001b[0m\u001b[0;34m,\u001b[0m \u001b[0mrankdir\u001b[0m\u001b[0;34m=\u001b[0m\u001b[0mrankdir\u001b[0m\u001b[0;34m,\u001b[0m \u001b[0;34m**\u001b[0m\u001b[0mkwargs\u001b[0m\u001b[0;34m)\u001b[0m\u001b[0;34m\u001b[0m\u001b[0m\n\u001b[0m\u001b[1;32m    259\u001b[0m \u001b[0;34m\u001b[0m\u001b[0m\n\u001b[1;32m    260\u001b[0m     \u001b[0ms\u001b[0m \u001b[0;34m=\u001b[0m \u001b[0mBytesIO\u001b[0m\u001b[0;34m(\u001b[0m\u001b[0;34m)\u001b[0m\u001b[0;34m\u001b[0m\u001b[0m\n",
      "\u001b[0;32m/Users/aoxu/anaconda/lib/python3.6/site-packages/xgboost/plotting.py\u001b[0m in \u001b[0;36mto_graphviz\u001b[0;34m(booster, fmap, num_trees, rankdir, yes_color, no_color, **kwargs)\u001b[0m\n\u001b[1;32m    195\u001b[0m         \u001b[0;32mfrom\u001b[0m \u001b[0mgraphviz\u001b[0m \u001b[0;32mimport\u001b[0m \u001b[0mDigraph\u001b[0m\u001b[0;34m\u001b[0m\u001b[0m\n\u001b[1;32m    196\u001b[0m     \u001b[0;32mexcept\u001b[0m \u001b[0mImportError\u001b[0m\u001b[0;34m:\u001b[0m\u001b[0;34m\u001b[0m\u001b[0m\n\u001b[0;32m--> 197\u001b[0;31m         \u001b[0;32mraise\u001b[0m \u001b[0mImportError\u001b[0m\u001b[0;34m(\u001b[0m\u001b[0;34m'You must install graphviz to plot tree'\u001b[0m\u001b[0;34m)\u001b[0m\u001b[0;34m\u001b[0m\u001b[0m\n\u001b[0m\u001b[1;32m    198\u001b[0m \u001b[0;34m\u001b[0m\u001b[0m\n\u001b[1;32m    199\u001b[0m     \u001b[0;32mif\u001b[0m \u001b[0;32mnot\u001b[0m \u001b[0misinstance\u001b[0m\u001b[0;34m(\u001b[0m\u001b[0mbooster\u001b[0m\u001b[0;34m,\u001b[0m \u001b[0;34m(\u001b[0m\u001b[0mBooster\u001b[0m\u001b[0;34m,\u001b[0m \u001b[0mXGBModel\u001b[0m\u001b[0;34m)\u001b[0m\u001b[0;34m)\u001b[0m\u001b[0;34m:\u001b[0m\u001b[0;34m\u001b[0m\u001b[0m\n",
      "\u001b[0;31mImportError\u001b[0m: You must install graphviz to plot tree"
     ]
    },
    {
     "data": {
      "image/png": "[encoded data removed]",
      "text/plain": [
       "<matplotlib.figure.Figure at 0x1a225a4fd0>"
      ]
     },
     "metadata": {},
     "output_type": "display_data"
    }
   ],
   "source": [
    "# plot the tree\n",
    "\n",
    "xgb.plot_tree(xg_class, num_trees = 0)\n",
    "plt.rcParams['figure.figsize'] = [50, 10]\n",
    "plt.show()"
   ]
  },
  {
   "cell_type": "code",
   "execution_count": null,
   "metadata": {
    "collapsed": true
   },
   "outputs": [],
   "source": []
  }
 ],
 "metadata": {
  "kernelspec": {
   "display_name": "Python 3",
   "language": "python",
   "name": "python3"
  },
  "language_info": {
   "codemirror_mode": {
    "name": "ipython",
    "version": 3
   },
   "file_extension": ".py",
   "mimetype": "text/x-python",
   "name": "python",
   "nbconvert_exporter": "python",
   "pygments_lexer": "ipython3",
   "version": "3.6.1"
  }
 },
 "nbformat": 4,
 "nbformat_minor": 2
}
