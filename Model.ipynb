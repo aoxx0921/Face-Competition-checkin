{
 "cells": [
  {
   "cell_type": "code",
   "execution_count": 48,
   "metadata": {},
   "outputs": [],
   "source": [
    "import pandas as pd\n",
    "import numpy as np\n",
    "\n",
    "import matplotlib.pyplot as plt\n",
    "import seaborn as sns\n",
    "%matplotlib inline\n",
    "\n",
    "from sklearn.metrics import classification_report, confusion_matrix, accuracy_score\n",
    "\n",
    "from sklearn.model_selection import cross_validate, cross_val_predict, cross_val_score\n",
    "\n",
    "import time\n",
    "import datetime\n",
    "\n",
    "from sklearn import preprocessing\n",
    "from sklearn import metrics\n",
    "\n",
    "from sklearn.ensemble import VotingClassifier\n",
    "from sklearn.model_selection import StratifiedKFold\n",
    "\n",
    "from sklearn.ensemble import RandomForestClassifier\n",
    "\n",
    "from sklearn.ensemble import AdaBoostClassifier\n",
    "from sklearn.tree import DecisionTreeClassifier\n",
    "\n",
    "from sklearn.neighbors import NearestNeighbors\n",
    "\n",
    "from sklearn.datasets import make_classification\n",
    "from sklearn.ensemble import ExtraTreesClassifier\n",
    "from sklearn.cluster import KMeans\n",
    "\n",
    "from sklearn.model_selection import train_test_split\n",
    "from sklearn.naive_bayes import GaussianNB\n",
    "\n",
    "from mlxtend.classifier import StackingClassifier\n",
    "from sklearn import model_selection\n",
    "from sklearn.linear_model import LogisticRegression\n",
    "\n",
    "from sklearn.cluster import AffinityPropagation\n",
    "from itertools import cycle\n",
    "from sklearn.neighbors import KNeighborsClassifier\n"
   ]
  },
  {
   "cell_type": "code",
   "execution_count": 53,
   "metadata": {},
   "outputs": [
    {
     "data": {
      "text/plain": [
       "(102974, 9)"
      ]
     },
     "execution_count": 53,
     "metadata": {},
     "output_type": "execute_result"
    }
   ],
   "source": [
    "df_cell_train = pd.read_csv('sample_data.csv', index_col = None)\n",
    "df_cell_train.shape"
   ]
  },
  {
   "cell_type": "code",
   "execution_count": 38,
   "metadata": {},
   "outputs": [],
   "source": [
    "\n",
    "# Add some columns to make calculations easier\n",
    "#df_cell_train[\"hour\"] = (df_cell_train[\"time\"]//60)%24+1\n",
    "#df_cell_train[\"week\"] = (df_cell_train['time']//1440)%7+1\n",
    "#df_cell_train[\"month\"] = (df_cell_train['time']//43200)%12+1\n",
    "#df_cell_train['year'] = (df_cell_train['time']//525600)+1\n",
    "\n",
    "#df_cell_train[\"hour\"] = (df_cell_train[\"time\"]%(60*24))/60.\n",
    "#df_cell_train[\"dayofweek\"] = np.ceil((df_cell_train[\"time\"]%(60*24*7))/(60.*24))\n",
    "#df_cell_train['dayofmonth'] = np.ceil((df_cell_train['time']%(60*24*30))/(60.*24))\n",
    "#df_cell_train[\"dayofyear\"] = np.ceil((df_cell_train[\"time\"]%(60*24*365))/(60.*24))\n",
    "#df_cell_train.head()\n",
    "\n",
    "\n",
    "df_cell_train['x_y_mean'] = (df_cell_train['x']+df_cell_train['y'])/2\n",
    "df_cell_train['x/y'] = (df_cell_train['x']/(df_cell_train['y']+0.01**100))\n",
    "\n",
    "#df_cell_train = df_cell_train.drop(['row_id', 'time'], axis = 1)"
   ]
  },
  {
   "cell_type": "code",
   "execution_count": 39,
   "metadata": {},
   "outputs": [
    {
     "data": {
      "text/html": [
       "<div>\n",
       "<style>\n",
       "    .dataframe thead tr:only-child th {\n",
       "        text-align: right;\n",
       "    }\n",
       "\n",
       "    .dataframe thead th {\n",
       "        text-align: left;\n",
       "    }\n",
       "\n",
       "    .dataframe tbody tr th {\n",
       "        vertical-align: top;\n",
       "    }\n",
       "</style>\n",
       "<table border=\"1\" class=\"dataframe\">\n",
       "  <thead>\n",
       "    <tr style=\"text-align: right;\">\n",
       "      <th></th>\n",
       "      <th>x</th>\n",
       "      <th>y</th>\n",
       "      <th>accuracy</th>\n",
       "      <th>place_id</th>\n",
       "      <th>month</th>\n",
       "      <th>hour</th>\n",
       "      <th>dayofweek</th>\n",
       "      <th>dayofmonth</th>\n",
       "      <th>dayofyear</th>\n",
       "      <th>x_y_mean</th>\n",
       "      <th>x/y</th>\n",
       "    </tr>\n",
       "  </thead>\n",
       "  <tbody>\n",
       "    <tr>\n",
       "      <th>0</th>\n",
       "      <td>0.9536</td>\n",
       "      <td>0.3766</td>\n",
       "      <td>95</td>\n",
       "      <td>7578348615</td>\n",
       "      <td>4</td>\n",
       "      <td>15.633333</td>\n",
       "      <td>6</td>\n",
       "      <td>4</td>\n",
       "      <td>89</td>\n",
       "      <td>0.66510</td>\n",
       "      <td>2.532130</td>\n",
       "    </tr>\n",
       "    <tr>\n",
       "      <th>1</th>\n",
       "      <td>0.6733</td>\n",
       "      <td>0.8339</td>\n",
       "      <td>82</td>\n",
       "      <td>1273954023</td>\n",
       "      <td>4</td>\n",
       "      <td>11.366667</td>\n",
       "      <td>6</td>\n",
       "      <td>18</td>\n",
       "      <td>103</td>\n",
       "      <td>0.75360</td>\n",
       "      <td>0.807411</td>\n",
       "    </tr>\n",
       "    <tr>\n",
       "      <th>2</th>\n",
       "      <td>0.8700</td>\n",
       "      <td>0.0681</td>\n",
       "      <td>65</td>\n",
       "      <td>7131826933</td>\n",
       "      <td>1</td>\n",
       "      <td>8.133333</td>\n",
       "      <td>2</td>\n",
       "      <td>20</td>\n",
       "      <td>15</td>\n",
       "      <td>0.46905</td>\n",
       "      <td>12.775330</td>\n",
       "    </tr>\n",
       "    <tr>\n",
       "      <th>3</th>\n",
       "      <td>0.5939</td>\n",
       "      <td>0.0060</td>\n",
       "      <td>66</td>\n",
       "      <td>1809053339</td>\n",
       "      <td>7</td>\n",
       "      <td>4.333333</td>\n",
       "      <td>6</td>\n",
       "      <td>22</td>\n",
       "      <td>202</td>\n",
       "      <td>0.29995</td>\n",
       "      <td>98.983333</td>\n",
       "    </tr>\n",
       "    <tr>\n",
       "      <th>4</th>\n",
       "      <td>0.9637</td>\n",
       "      <td>0.2188</td>\n",
       "      <td>4</td>\n",
       "      <td>2198399075</td>\n",
       "      <td>7</td>\n",
       "      <td>8.416667</td>\n",
       "      <td>7</td>\n",
       "      <td>6</td>\n",
       "      <td>181</td>\n",
       "      <td>0.59125</td>\n",
       "      <td>4.404479</td>\n",
       "    </tr>\n",
       "  </tbody>\n",
       "</table>\n",
       "</div>"
      ],
      "text/plain": [
       "        x       y  accuracy    place_id  month       hour  dayofweek  \\\n",
       "0  0.9536  0.3766        95  7578348615      4  15.633333          6   \n",
       "1  0.6733  0.8339        82  1273954023      4  11.366667          6   \n",
       "2  0.8700  0.0681        65  7131826933      1   8.133333          2   \n",
       "3  0.5939  0.0060        66  1809053339      7   4.333333          6   \n",
       "4  0.9637  0.2188         4  2198399075      7   8.416667          7   \n",
       "\n",
       "   dayofmonth  dayofyear  x_y_mean        x/y  \n",
       "0           4         89   0.66510   2.532130  \n",
       "1          18        103   0.75360   0.807411  \n",
       "2          20         15   0.46905  12.775330  \n",
       "3          22        202   0.29995  98.983333  \n",
       "4           6        181   0.59125   4.404479  "
      ]
     },
     "execution_count": 39,
     "metadata": {},
     "output_type": "execute_result"
    }
   ],
   "source": [
    "#df_cell_train = df_cell_train.reset_index().drop('index', axis = 1)\n",
    "df_cell_train.head()"
   ]
  },
  {
   "cell_type": "code",
   "execution_count": 6,
   "metadata": {
    "collapsed": true
   },
   "outputs": [],
   "source": [
    "#df_cell_train.to_csv('sample_data.csv')"
   ]
  },
  {
   "cell_type": "code",
   "execution_count": 75,
   "metadata": {
    "collapsed": true
   },
   "outputs": [],
   "source": [
    "X = df_cell_train.drop('place_id', axis = 1)\n",
    "\n",
    "y = pd.DataFrame(df_cell_train.place_id)"
   ]
  },
  {
   "cell_type": "code",
   "execution_count": 76,
   "metadata": {},
   "outputs": [
    {
     "data": {
      "text/html": [
       "<div>\n",
       "<style>\n",
       "    .dataframe thead tr:only-child th {\n",
       "        text-align: right;\n",
       "    }\n",
       "\n",
       "    .dataframe thead th {\n",
       "        text-align: left;\n",
       "    }\n",
       "\n",
       "    .dataframe tbody tr th {\n",
       "        vertical-align: top;\n",
       "    }\n",
       "</style>\n",
       "<table border=\"1\" class=\"dataframe\">\n",
       "  <thead>\n",
       "    <tr style=\"text-align: right;\">\n",
       "      <th></th>\n",
       "      <th>x</th>\n",
       "      <th>y</th>\n",
       "      <th>accuracy</th>\n",
       "      <th>month</th>\n",
       "      <th>hour</th>\n",
       "      <th>dayofweek</th>\n",
       "      <th>dayofmonth</th>\n",
       "      <th>dayofyear</th>\n",
       "    </tr>\n",
       "  </thead>\n",
       "  <tbody>\n",
       "    <tr>\n",
       "      <th>0</th>\n",
       "      <td>0.9536</td>\n",
       "      <td>0.3766</td>\n",
       "      <td>95</td>\n",
       "      <td>4</td>\n",
       "      <td>15.633333</td>\n",
       "      <td>6</td>\n",
       "      <td>4</td>\n",
       "      <td>89</td>\n",
       "    </tr>\n",
       "    <tr>\n",
       "      <th>1</th>\n",
       "      <td>0.6733</td>\n",
       "      <td>0.8339</td>\n",
       "      <td>82</td>\n",
       "      <td>4</td>\n",
       "      <td>11.366667</td>\n",
       "      <td>6</td>\n",
       "      <td>18</td>\n",
       "      <td>103</td>\n",
       "    </tr>\n",
       "    <tr>\n",
       "      <th>2</th>\n",
       "      <td>0.8700</td>\n",
       "      <td>0.0681</td>\n",
       "      <td>65</td>\n",
       "      <td>1</td>\n",
       "      <td>8.133333</td>\n",
       "      <td>2</td>\n",
       "      <td>20</td>\n",
       "      <td>15</td>\n",
       "    </tr>\n",
       "    <tr>\n",
       "      <th>3</th>\n",
       "      <td>0.5939</td>\n",
       "      <td>0.0060</td>\n",
       "      <td>66</td>\n",
       "      <td>7</td>\n",
       "      <td>4.333333</td>\n",
       "      <td>6</td>\n",
       "      <td>22</td>\n",
       "      <td>202</td>\n",
       "    </tr>\n",
       "    <tr>\n",
       "      <th>4</th>\n",
       "      <td>0.9637</td>\n",
       "      <td>0.2188</td>\n",
       "      <td>4</td>\n",
       "      <td>7</td>\n",
       "      <td>8.416667</td>\n",
       "      <td>7</td>\n",
       "      <td>6</td>\n",
       "      <td>181</td>\n",
       "    </tr>\n",
       "  </tbody>\n",
       "</table>\n",
       "</div>"
      ],
      "text/plain": [
       "        x       y  accuracy  month       hour  dayofweek  dayofmonth  \\\n",
       "0  0.9536  0.3766        95      4  15.633333          6           4   \n",
       "1  0.6733  0.8339        82      4  11.366667          6          18   \n",
       "2  0.8700  0.0681        65      1   8.133333          2          20   \n",
       "3  0.5939  0.0060        66      7   4.333333          6          22   \n",
       "4  0.9637  0.2188         4      7   8.416667          7           6   \n",
       "\n",
       "   dayofyear  \n",
       "0         89  \n",
       "1        103  \n",
       "2         15  \n",
       "3        202  \n",
       "4        181  "
      ]
     },
     "execution_count": 76,
     "metadata": {},
     "output_type": "execute_result"
    }
   ],
   "source": [
    "X.head()"
   ]
  },
  {
   "cell_type": "code",
   "execution_count": 42,
   "metadata": {},
   "outputs": [],
   "source": [
    "##########  normalized  ########\n",
    "\n",
    "min_max_scaler = preprocessing.MinMaxScaler()\n",
    "np_scaled = min_max_scaler.fit_transform(X)\n",
    "df_normalized = pd.DataFrame(np_scaled)\n",
    "df_normalized.columns = X.columns\n",
    "X_normalized = df_normalized"
   ]
  },
  {
   "cell_type": "markdown",
   "metadata": {},
   "source": [
    "# Feature Engineering"
   ]
  },
  {
   "cell_type": "code",
   "execution_count": 77,
   "metadata": {},
   "outputs": [
    {
     "data": {
      "text/html": [
       "<div>\n",
       "<style>\n",
       "    .dataframe thead tr:only-child th {\n",
       "        text-align: right;\n",
       "    }\n",
       "\n",
       "    .dataframe thead th {\n",
       "        text-align: left;\n",
       "    }\n",
       "\n",
       "    .dataframe tbody tr th {\n",
       "        vertical-align: top;\n",
       "    }\n",
       "</style>\n",
       "<table border=\"1\" class=\"dataframe\">\n",
       "  <thead>\n",
       "    <tr style=\"text-align: right;\">\n",
       "      <th></th>\n",
       "      <th>x</th>\n",
       "      <th>y</th>\n",
       "      <th>accuracy</th>\n",
       "      <th>month</th>\n",
       "      <th>hour</th>\n",
       "      <th>dayofweek</th>\n",
       "      <th>dayofmonth</th>\n",
       "      <th>dayofyear</th>\n",
       "      <th>range_accuracy</th>\n",
       "    </tr>\n",
       "  </thead>\n",
       "  <tbody>\n",
       "    <tr>\n",
       "      <th>0</th>\n",
       "      <td>0.9536</td>\n",
       "      <td>0.3766</td>\n",
       "      <td>95</td>\n",
       "      <td>4</td>\n",
       "      <td>15.633333</td>\n",
       "      <td>6</td>\n",
       "      <td>4</td>\n",
       "      <td>89</td>\n",
       "      <td>2</td>\n",
       "    </tr>\n",
       "    <tr>\n",
       "      <th>1</th>\n",
       "      <td>0.6733</td>\n",
       "      <td>0.8339</td>\n",
       "      <td>82</td>\n",
       "      <td>4</td>\n",
       "      <td>11.366667</td>\n",
       "      <td>6</td>\n",
       "      <td>18</td>\n",
       "      <td>103</td>\n",
       "      <td>2</td>\n",
       "    </tr>\n",
       "    <tr>\n",
       "      <th>2</th>\n",
       "      <td>0.8700</td>\n",
       "      <td>0.0681</td>\n",
       "      <td>65</td>\n",
       "      <td>1</td>\n",
       "      <td>8.133333</td>\n",
       "      <td>2</td>\n",
       "      <td>20</td>\n",
       "      <td>15</td>\n",
       "      <td>1</td>\n",
       "    </tr>\n",
       "    <tr>\n",
       "      <th>3</th>\n",
       "      <td>0.5939</td>\n",
       "      <td>0.0060</td>\n",
       "      <td>66</td>\n",
       "      <td>7</td>\n",
       "      <td>4.333333</td>\n",
       "      <td>6</td>\n",
       "      <td>22</td>\n",
       "      <td>202</td>\n",
       "      <td>1</td>\n",
       "    </tr>\n",
       "    <tr>\n",
       "      <th>4</th>\n",
       "      <td>0.9637</td>\n",
       "      <td>0.2188</td>\n",
       "      <td>4</td>\n",
       "      <td>7</td>\n",
       "      <td>8.416667</td>\n",
       "      <td>7</td>\n",
       "      <td>6</td>\n",
       "      <td>181</td>\n",
       "      <td>0</td>\n",
       "    </tr>\n",
       "  </tbody>\n",
       "</table>\n",
       "</div>"
      ],
      "text/plain": [
       "        x       y  accuracy  month       hour  dayofweek  dayofmonth  \\\n",
       "0  0.9536  0.3766        95      4  15.633333          6           4   \n",
       "1  0.6733  0.8339        82      4  11.366667          6          18   \n",
       "2  0.8700  0.0681        65      1   8.133333          2          20   \n",
       "3  0.5939  0.0060        66      7   4.333333          6          22   \n",
       "4  0.9637  0.2188         4      7   8.416667          7           6   \n",
       "\n",
       "   dayofyear  range_accuracy  \n",
       "0         89               2  \n",
       "1        103               2  \n",
       "2         15               1  \n",
       "3        202               1  \n",
       "4        181               0  "
      ]
     },
     "execution_count": 77,
     "metadata": {},
     "output_type": "execute_result"
    }
   ],
   "source": [
    "#############   create range for accuracy   ##########\n",
    "\n",
    "df_accuracy = X.accuracy\n",
    "\n",
    "X['range_accuracy'] = X['accuracy'].apply(lambda x: 0 if x < 40 else (1 if x >= 40 and x < 80 else 2))\n",
    "X.head()"
   ]
  },
  {
   "cell_type": "code",
   "execution_count": 63,
   "metadata": {},
   "outputs": [
    {
     "name": "stdout",
     "output_type": "stream",
     "text": [
      "(82379, 10) (82379, 1)\n",
      "(20595, 10) (20595, 1)\n"
     ]
    }
   ],
   "source": [
    "# train, test split \n",
    "\n",
    "#X_new = X_new.drop(['range_accuracy', 'dayofyear', 'dayofweek', 'dayofmonth'], axis = 1)\n",
    "\n",
    "X_train, X_test, y_train, y_test = train_test_split(X, y, test_size = 0.2)\n",
    "print(X_train.shape, y_train.shape)\n",
    "print(X_test.shape, y_test.shape)"
   ]
  },
  {
   "cell_type": "code",
   "execution_count": 27,
   "metadata": {
    "collapsed": true
   },
   "outputs": [],
   "source": [
    "#  use k means cluster data points as a new feature \n",
    "\n",
    "kmeans = KMeans(n_clusters = 100)\n",
    "location = X[['x', 'y']]\n",
    "kmeans = kmeans.fit(location)\n",
    "labels = kmeans.predict(location) "
   ]
  },
  {
   "cell_type": "code",
   "execution_count": 28,
   "metadata": {
    "collapsed": true
   },
   "outputs": [],
   "source": [
    "labels = pd.DataFrame(labels,columns=['cluster_kmeans'])"
   ]
  },
  {
   "cell_type": "code",
   "execution_count": 78,
   "metadata": {},
   "outputs": [],
   "source": [
    "min_max_scaler = preprocessing.MinMaxScaler()\n",
    "np_scaled = min_max_scaler.fit_transform(X)\n",
    "df_normalized = pd.DataFrame(np_scaled)\n",
    "df_normalized.columns = X.columns\n",
    "X_normalized = df_normalized"
   ]
  },
  {
   "cell_type": "code",
   "execution_count": 79,
   "metadata": {},
   "outputs": [
    {
     "data": {
      "text/html": [
       "<div>\n",
       "<style>\n",
       "    .dataframe thead tr:only-child th {\n",
       "        text-align: right;\n",
       "    }\n",
       "\n",
       "    .dataframe thead th {\n",
       "        text-align: left;\n",
       "    }\n",
       "\n",
       "    .dataframe tbody tr th {\n",
       "        vertical-align: top;\n",
       "    }\n",
       "</style>\n",
       "<table border=\"1\" class=\"dataframe\">\n",
       "  <thead>\n",
       "    <tr style=\"text-align: right;\">\n",
       "      <th></th>\n",
       "      <th>x</th>\n",
       "      <th>y</th>\n",
       "      <th>accuracy</th>\n",
       "      <th>month</th>\n",
       "      <th>hour</th>\n",
       "      <th>dayofweek</th>\n",
       "      <th>dayofmonth</th>\n",
       "      <th>dayofyear</th>\n",
       "      <th>range_accuracy</th>\n",
       "    </tr>\n",
       "  </thead>\n",
       "  <tbody>\n",
       "    <tr>\n",
       "      <th>0</th>\n",
       "      <td>0.907381</td>\n",
       "      <td>0.376638</td>\n",
       "      <td>0.092794</td>\n",
       "      <td>0.272727</td>\n",
       "      <td>0.651842</td>\n",
       "      <td>0.857143</td>\n",
       "      <td>0.133333</td>\n",
       "      <td>0.241758</td>\n",
       "      <td>1.0</td>\n",
       "    </tr>\n",
       "    <tr>\n",
       "      <th>1</th>\n",
       "      <td>0.346669</td>\n",
       "      <td>0.833983</td>\n",
       "      <td>0.079961</td>\n",
       "      <td>0.272727</td>\n",
       "      <td>0.473940</td>\n",
       "      <td>0.857143</td>\n",
       "      <td>0.600000</td>\n",
       "      <td>0.280220</td>\n",
       "      <td>1.0</td>\n",
       "    </tr>\n",
       "    <tr>\n",
       "      <th>2</th>\n",
       "      <td>0.740148</td>\n",
       "      <td>0.068107</td>\n",
       "      <td>0.063179</td>\n",
       "      <td>0.000000</td>\n",
       "      <td>0.339124</td>\n",
       "      <td>0.285714</td>\n",
       "      <td>0.666667</td>\n",
       "      <td>0.038462</td>\n",
       "      <td>0.5</td>\n",
       "    </tr>\n",
       "    <tr>\n",
       "      <th>3</th>\n",
       "      <td>0.187838</td>\n",
       "      <td>0.006001</td>\n",
       "      <td>0.064166</td>\n",
       "      <td>0.545455</td>\n",
       "      <td>0.180681</td>\n",
       "      <td>0.857143</td>\n",
       "      <td>0.733333</td>\n",
       "      <td>0.552198</td>\n",
       "      <td>0.5</td>\n",
       "    </tr>\n",
       "    <tr>\n",
       "      <th>4</th>\n",
       "      <td>0.927586</td>\n",
       "      <td>0.218822</td>\n",
       "      <td>0.002962</td>\n",
       "      <td>0.545455</td>\n",
       "      <td>0.350938</td>\n",
       "      <td>1.000000</td>\n",
       "      <td>0.200000</td>\n",
       "      <td>0.494505</td>\n",
       "      <td>0.0</td>\n",
       "    </tr>\n",
       "  </tbody>\n",
       "</table>\n",
       "</div>"
      ],
      "text/plain": [
       "          x         y  accuracy     month      hour  dayofweek  dayofmonth  \\\n",
       "0  0.907381  0.376638  0.092794  0.272727  0.651842   0.857143    0.133333   \n",
       "1  0.346669  0.833983  0.079961  0.272727  0.473940   0.857143    0.600000   \n",
       "2  0.740148  0.068107  0.063179  0.000000  0.339124   0.285714    0.666667   \n",
       "3  0.187838  0.006001  0.064166  0.545455  0.180681   0.857143    0.733333   \n",
       "4  0.927586  0.218822  0.002962  0.545455  0.350938   1.000000    0.200000   \n",
       "\n",
       "   dayofyear  range_accuracy  \n",
       "0   0.241758             1.0  \n",
       "1   0.280220             1.0  \n",
       "2   0.038462             0.5  \n",
       "3   0.552198             0.5  \n",
       "4   0.494505             0.0  "
      ]
     },
     "execution_count": 79,
     "metadata": {},
     "output_type": "execute_result"
    }
   ],
   "source": [
    "X_normalized.head()"
   ]
  },
  {
   "cell_type": "code",
   "execution_count": 34,
   "metadata": {},
   "outputs": [
    {
     "data": {
      "text/html": [
       "<div>\n",
       "<style>\n",
       "    .dataframe thead tr:only-child th {\n",
       "        text-align: right;\n",
       "    }\n",
       "\n",
       "    .dataframe thead th {\n",
       "        text-align: left;\n",
       "    }\n",
       "\n",
       "    .dataframe tbody tr th {\n",
       "        vertical-align: top;\n",
       "    }\n",
       "</style>\n",
       "<table border=\"1\" class=\"dataframe\">\n",
       "  <thead>\n",
       "    <tr style=\"text-align: right;\">\n",
       "      <th></th>\n",
       "      <th>x</th>\n",
       "      <th>y</th>\n",
       "      <th>accuracy</th>\n",
       "      <th>hour</th>\n",
       "      <th>dayofweek</th>\n",
       "      <th>dayofmonth</th>\n",
       "      <th>dayofyear</th>\n",
       "      <th>range_accuracy</th>\n",
       "      <th>cluster_kmeans</th>\n",
       "    </tr>\n",
       "  </thead>\n",
       "  <tbody>\n",
       "    <tr>\n",
       "      <th>0</th>\n",
       "      <td>0.017902</td>\n",
       "      <td>0.232123</td>\n",
       "      <td>0.065153</td>\n",
       "      <td>0.349548</td>\n",
       "      <td>0.857143</td>\n",
       "      <td>0.566667</td>\n",
       "      <td>0.030220</td>\n",
       "      <td>0.5</td>\n",
       "      <td>42</td>\n",
       "    </tr>\n",
       "    <tr>\n",
       "      <th>1</th>\n",
       "      <td>0.148915</td>\n",
       "      <td>0.258626</td>\n",
       "      <td>0.057256</td>\n",
       "      <td>0.475330</td>\n",
       "      <td>0.428571</td>\n",
       "      <td>0.600000</td>\n",
       "      <td>0.293956</td>\n",
       "      <td>0.5</td>\n",
       "      <td>8</td>\n",
       "    </tr>\n",
       "    <tr>\n",
       "      <th>2</th>\n",
       "      <td>0.365937</td>\n",
       "      <td>0.153715</td>\n",
       "      <td>0.172754</td>\n",
       "      <td>0.247394</td>\n",
       "      <td>0.285714</td>\n",
       "      <td>0.366667</td>\n",
       "      <td>0.521978</td>\n",
       "      <td>1.0</td>\n",
       "      <td>80</td>\n",
       "    </tr>\n",
       "    <tr>\n",
       "      <th>3</th>\n",
       "      <td>0.953695</td>\n",
       "      <td>0.376638</td>\n",
       "      <td>0.092794</td>\n",
       "      <td>0.651842</td>\n",
       "      <td>0.857143</td>\n",
       "      <td>0.133333</td>\n",
       "      <td>0.241758</td>\n",
       "      <td>1.0</td>\n",
       "      <td>3</td>\n",
       "    </tr>\n",
       "    <tr>\n",
       "      <th>4</th>\n",
       "      <td>0.673367</td>\n",
       "      <td>0.833983</td>\n",
       "      <td>0.079961</td>\n",
       "      <td>0.473940</td>\n",
       "      <td>0.857143</td>\n",
       "      <td>0.600000</td>\n",
       "      <td>0.280220</td>\n",
       "      <td>1.0</td>\n",
       "      <td>83</td>\n",
       "    </tr>\n",
       "  </tbody>\n",
       "</table>\n",
       "</div>"
      ],
      "text/plain": [
       "          x         y  accuracy      hour  dayofweek  dayofmonth  dayofyear  \\\n",
       "0  0.017902  0.232123  0.065153  0.349548   0.857143    0.566667   0.030220   \n",
       "1  0.148915  0.258626  0.057256  0.475330   0.428571    0.600000   0.293956   \n",
       "2  0.365937  0.153715  0.172754  0.247394   0.285714    0.366667   0.521978   \n",
       "3  0.953695  0.376638  0.092794  0.651842   0.857143    0.133333   0.241758   \n",
       "4  0.673367  0.833983  0.079961  0.473940   0.857143    0.600000   0.280220   \n",
       "\n",
       "   range_accuracy  cluster_kmeans  \n",
       "0             0.5              42  \n",
       "1             0.5               8  \n",
       "2             1.0              80  \n",
       "3             1.0               3  \n",
       "4             1.0              83  "
      ]
     },
     "execution_count": 34,
     "metadata": {},
     "output_type": "execute_result"
    }
   ],
   "source": [
    "labels = pd.DataFrame(labels,columns=['cluster_kmeans'])\n",
    "\n",
    "X_new = pd.concat([X_normalized, labels], axis = 1)\n",
    "\n",
    "X_new.head()"
   ]
  },
  {
   "cell_type": "code",
   "execution_count": 43,
   "metadata": {},
   "outputs": [
    {
     "name": "stdout",
     "output_type": "stream",
     "text": [
      "(82379, 10) (82379, 1)\n",
      "(20595, 10) (20595, 1)\n"
     ]
    }
   ],
   "source": [
    "#### train, test split \n",
    "\n",
    "#X_new = X_new.drop(['range_accuracy', 'dayofyear', 'dayofweek', 'dayofmonth'], axis = 1)\n",
    "\n",
    "X_train, X_test, y_train, y_test = train_test_split(X_normalized, y, test_size = 0.2)\n",
    "print(X_train.shape, y_train.shape)\n",
    "print(X_test.shape, y_test.shape)"
   ]
  },
  {
   "cell_type": "markdown",
   "metadata": {},
   "source": [
    "# KNN"
   ]
  },
  {
   "cell_type": "code",
   "execution_count": 278,
   "metadata": {},
   "outputs": [
    {
     "name": "stderr",
     "output_type": "stream",
     "text": [
      "/Users/aoxu/anaconda/lib/python3.6/site-packages/ipykernel_launcher.py:4: DataConversionWarning: A column-vector y was passed when a 1d array was expected. Please change the shape of y to (n_samples, ), for example using ravel().\n",
      "  after removing the cwd from sys.path.\n"
     ]
    },
    {
     "data": {
      "text/plain": [
       "KNeighborsClassifier(algorithm='auto', leaf_size=30, metric='manhattan',\n",
       "           metric_params=None, n_jobs=1, n_neighbors=10, p=2,\n",
       "           weights='distance')"
      ]
     },
     "execution_count": 278,
     "metadata": {},
     "output_type": "execute_result"
    }
   ],
   "source": [
    "from sklearn.neighbors import KNeighborsClassifier   # n_neighbors = 10\n",
    "\n",
    "classifier = KNeighborsClassifier(n_neighbors = 10 , weights = 'distance', metric = 'manhattan', n_jobs = 1, p = 2)\n",
    "classifier.fit(X_train, y_train)\n"
   ]
  },
  {
   "cell_type": "code",
   "execution_count": 279,
   "metadata": {},
   "outputs": [
    {
     "name": "stdout",
     "output_type": "stream",
     "text": [
      "accuracy: 0.5430369127516779\n"
     ]
    }
   ],
   "source": [
    "y_pred_knn = classifier.predict(X_test)\n",
    "print('accuracy:', metrics.accuracy_score(y_test, y_pred_knn))"
   ]
  },
  {
   "cell_type": "markdown",
   "metadata": {},
   "source": [
    "# Decision Tree"
   ]
  },
  {
   "cell_type": "code",
   "execution_count": 283,
   "metadata": {},
   "outputs": [
    {
     "name": "stdout",
     "output_type": "stream",
     "text": [
      "accuracy: 0.5176174496644296\n"
     ]
    }
   ],
   "source": [
    "tree = DecisionTreeClassifier(criterion = 'entropy', random_state = 100, max_depth = 20, min_samples_leaf = 5)\n",
    "\n",
    "tree.fit(X_train, y_train)\n",
    "y_pred_tree = tree.predict(X_test)\n",
    "\n",
    "print('accuracy:', metrics.accuracy_score(y_test, y_pred_tree))"
   ]
  },
  {
   "cell_type": "markdown",
   "metadata": {},
   "source": [
    "# Random Forest"
   ]
  },
  {
   "cell_type": "code",
   "execution_count": 44,
   "metadata": {},
   "outputs": [
    {
     "name": "stderr",
     "output_type": "stream",
     "text": [
      "/Users/aoxu/anaconda/lib/python3.6/site-packages/ipykernel_launcher.py:2: DataConversionWarning: A column-vector y was passed when a 1d array was expected. Please change the shape of y to (n_samples,), for example using ravel().\n",
      "  \n"
     ]
    },
    {
     "data": {
      "text/plain": [
       "RandomForestClassifier(bootstrap=True, class_weight=None, criterion='entropy',\n",
       "            max_depth=20, max_features='auto', max_leaf_nodes=None,\n",
       "            min_impurity_decrease=0.0, min_impurity_split=None,\n",
       "            min_samples_leaf=1, min_samples_split=2,\n",
       "            min_weight_fraction_leaf=0.0, n_estimators=100, n_jobs=1,\n",
       "            oob_score=False, random_state=42, verbose=0, warm_start=False)"
      ]
     },
     "execution_count": 44,
     "metadata": {},
     "output_type": "execute_result"
    }
   ],
   "source": [
    "rf = RandomForestClassifier(n_estimators = 100, criterion = 'entropy', random_state = 42, max_depth = 20)\n",
    "rf.fit(X_train, y_train)"
   ]
  },
  {
   "cell_type": "code",
   "execution_count": 45,
   "metadata": {},
   "outputs": [
    {
     "name": "stdout",
     "output_type": "stream",
     "text": [
      "accuracy: 0.7257101238164603\n"
     ]
    }
   ],
   "source": [
    "y_pred_rf = rf.predict(X_test)\n",
    "\n",
    "print('accuracy:', metrics.accuracy_score(y_test, y_pred_rf))"
   ]
  },
  {
   "cell_type": "markdown",
   "metadata": {},
   "source": [
    "# Naive Bayes"
   ]
  },
  {
   "cell_type": "code",
   "execution_count": 46,
   "metadata": {},
   "outputs": [
    {
     "name": "stderr",
     "output_type": "stream",
     "text": [
      "/Users/aoxu/anaconda/lib/python3.6/site-packages/sklearn/utils/validation.py:578: DataConversionWarning: A column-vector y was passed when a 1d array was expected. Please change the shape of y to (n_samples, ), for example using ravel().\n",
      "  y = column_or_1d(y, warn=True)\n"
     ]
    },
    {
     "name": "stdout",
     "output_type": "stream",
     "text": [
      "accuracy: 0.6117989803350328\n"
     ]
    }
   ],
   "source": [
    "nb = GaussianNB()\n",
    "nb.fit(X_train, y_train)\n",
    "y_pred_nb = nb.predict(X_test)\n",
    "\n",
    "print('accuracy:', metrics.accuracy_score(y_test, y_pred_nb))"
   ]
  },
  {
   "cell_type": "markdown",
   "metadata": {},
   "source": [
    "# Neural Network"
   ]
  },
  {
   "cell_type": "code",
   "execution_count": 54,
   "metadata": {},
   "outputs": [
    {
     "name": "stderr",
     "output_type": "stream",
     "text": [
      "/Users/aoxu/anaconda/lib/python3.6/site-packages/sklearn/neural_network/multilayer_perceptron.py:912: DataConversionWarning: A column-vector y was passed when a 1d array was expected. Please change the shape of y to (n_samples, ), for example using ravel().\n",
      "  y = column_or_1d(y, warn=True)\n"
     ]
    },
    {
     "name": "stdout",
     "output_type": "stream",
     "text": [
      "accuracy: 0.015149308084486526\n"
     ]
    }
   ],
   "source": [
    "# perception \n",
    "from sklearn.neural_network import MLPClassifier\n",
    "\n",
    "mlp = MLPClassifier(solver = 'lbfgs', hidden_layer_sizes=(50,10), activation = 'logistic')\n",
    "mlp.fit(X_train, y_train)\n",
    "y_pred_mlp = mlp.predict(X_test)\n",
    "\n",
    "print('accuracy:', metrics.accuracy_score(y_test, y_pred_mlp))"
   ]
  },
  {
   "cell_type": "markdown",
   "metadata": {},
   "source": [
    "# Adaboost"
   ]
  },
  {
   "cell_type": "code",
   "execution_count": null,
   "metadata": {},
   "outputs": [
    {
     "name": "stderr",
     "output_type": "stream",
     "text": [
      "/Users/aoxu/anaconda/lib/python3.6/site-packages/sklearn/utils/validation.py:578: DataConversionWarning: A column-vector y was passed when a 1d array was expected. Please change the shape of y to (n_samples, ), for example using ravel().\n",
      "  y = column_or_1d(y, warn=True)\n"
     ]
    }
   ],
   "source": [
    "from sklearn.ensemble import AdaBoostClassifier\n",
    "from sklearn.tree import DecisionTreeClassifier\n",
    "\n",
    "rf = RandomForestClassifier(n_estimators = 20, criterion = 'entropy', random_state = 42, max_depth = 20)\n",
    "adaboost = AdaBoostClassifier(base_estimator = rf, n_estimators = 20, learning_rate = 1)\n",
    "adaboost.fit(X_train, y_train)\n",
    "y_pred_ada = adaboost.predict(X_test) \n",
    "\n",
    "print('accuracy:', metrics.accuracy_score(y_test, y_pred_ada))"
   ]
  },
  {
   "cell_type": "markdown",
   "metadata": {},
   "source": [
    "# XGBoost"
   ]
  },
  {
   "cell_type": "code",
   "execution_count": 103,
   "metadata": {},
   "outputs": [
    {
     "name": "stderr",
     "output_type": "stream",
     "text": [
      "/Users/aoxu/anaconda/lib/python3.6/site-packages/sklearn/preprocessing/label.py:95: DataConversionWarning: A column-vector y was passed when a 1d array was expected. Please change the shape of y to (n_samples, ), for example using ravel().\n",
      "  y = column_or_1d(y, warn=True)\n",
      "/Users/aoxu/anaconda/lib/python3.6/site-packages/sklearn/preprocessing/label.py:128: DataConversionWarning: A column-vector y was passed when a 1d array was expected. Please change the shape of y to (n_samples, ), for example using ravel().\n",
      "  y = column_or_1d(y, warn=True)\n"
     ]
    },
    {
     "name": "stdout",
     "output_type": "stream",
     "text": [
      "accuracy: 0.9978506949419688\n"
     ]
    },
    {
     "name": "stderr",
     "output_type": "stream",
     "text": [
      "/Users/aoxu/anaconda/lib/python3.6/site-packages/sklearn/preprocessing/label.py:151: DeprecationWarning: The truth value of an empty array is ambiguous. Returning False, but in future this will result in an error. Use `array.size > 0` to check that an array is not empty.\n",
      "  if diff:\n"
     ]
    }
   ],
   "source": [
    "import xgboost as xgb\n",
    "\n",
    "xg_class = xgb.XGBClassifier(colsample_bytree=0.3, learning_rate=0.2, max_depth=20, alpha = 10, n_estimators= 10)\n",
    "xg_class.fit(X_train, y_train)\n",
    "\n",
    "y_pred_xgb = xg_class.predict(X_test)\n",
    "print('accuracy:', metrics.accuracy_score(y_test, y_pred_xgb))"
   ]
  },
  {
   "cell_type": "markdown",
   "metadata": {},
   "source": [
    "# Stacking"
   ]
  },
  {
   "cell_type": "code",
   "execution_count": 11,
   "metadata": {},
   "outputs": [
    {
     "name": "stdout",
     "output_type": "stream",
     "text": [
      "3-fold cross validation:\n",
      "[0.61257153 0.61200594 0.61305314]\n"
     ]
    },
    {
     "name": "stderr",
     "output_type": "stream",
     "text": [
      "/Users/aoxu/anaconda/lib/python3.6/site-packages/sklearn/utils/validation.py:578: DataConversionWarning: A column-vector y was passed when a 1d array was expected. Please change the shape of y to (n_samples, ), for example using ravel().\n",
      "  y = column_or_1d(y, warn=True)\n",
      "/Users/aoxu/anaconda/lib/python3.6/site-packages/sklearn/utils/validation.py:578: DataConversionWarning: A column-vector y was passed when a 1d array was expected. Please change the shape of y to (n_samples, ), for example using ravel().\n",
      "  y = column_or_1d(y, warn=True)\n",
      "/Users/aoxu/anaconda/lib/python3.6/site-packages/sklearn/utils/validation.py:578: DataConversionWarning: A column-vector y was passed when a 1d array was expected. Please change the shape of y to (n_samples, ), for example using ravel().\n",
      "  y = column_or_1d(y, warn=True)\n"
     ]
    },
    {
     "name": "stdout",
     "output_type": "stream",
     "text": [
      "[0.60673309 0.60466606 0.60714912]\n"
     ]
    },
    {
     "name": "stderr",
     "output_type": "stream",
     "text": [
      "/Users/aoxu/anaconda/lib/python3.6/site-packages/sklearn/utils/validation.py:578: DataConversionWarning: A column-vector y was passed when a 1d array was expected. Please change the shape of y to (n_samples, ), for example using ravel().\n",
      "  y = column_or_1d(y, warn=True)\n",
      "/Users/aoxu/anaconda/lib/python3.6/site-packages/mlxtend/classifier/stacking_classification.py:171: DataConversionWarning: A column-vector y was passed when a 1d array was expected. Please change the shape of y to (n_samples,), for example using ravel().\n",
      "  self.meta_clf_.fit(meta_features, y)\n",
      "/Users/aoxu/anaconda/lib/python3.6/site-packages/sklearn/utils/validation.py:578: DataConversionWarning: A column-vector y was passed when a 1d array was expected. Please change the shape of y to (n_samples, ), for example using ravel().\n",
      "  y = column_or_1d(y, warn=True)\n",
      "/Users/aoxu/anaconda/lib/python3.6/site-packages/mlxtend/classifier/stacking_classification.py:171: DataConversionWarning: A column-vector y was passed when a 1d array was expected. Please change the shape of y to (n_samples,), for example using ravel().\n",
      "  self.meta_clf_.fit(meta_features, y)\n",
      "/Users/aoxu/anaconda/lib/python3.6/site-packages/sklearn/utils/validation.py:578: DataConversionWarning: A column-vector y was passed when a 1d array was expected. Please change the shape of y to (n_samples, ), for example using ravel().\n",
      "  y = column_or_1d(y, warn=True)\n",
      "/Users/aoxu/anaconda/lib/python3.6/site-packages/mlxtend/classifier/stacking_classification.py:171: DataConversionWarning: A column-vector y was passed when a 1d array was expected. Please change the shape of y to (n_samples,), for example using ravel().\n",
      "  self.meta_clf_.fit(meta_features, y)\n"
     ]
    },
    {
     "name": "stdout",
     "output_type": "stream",
     "text": [
      "[0.67107212 0.66766668 0.67177179]\n"
     ]
    }
   ],
   "source": [
    "###########  stacking  #######\n",
    "\n",
    "from sklearn.neighbors import KNeighborsClassifier\n",
    "\n",
    "#knn = KNeighborsClassifier(n_neighbors = 100 , weights = 'distance', metric = 'manhattan', n_jobs = 1, p = 2)\n",
    "\n",
    "model1 = DecisionTreeClassifier(criterion = 'entropy', random_state = 100, max_depth = 20, min_samples_leaf = 5)\n",
    "model2 = GaussianNB()\n",
    "#model3 = KNeighborsClassifier(n_neighbors = 10 , weights = 'distance', metric = 'manhattan', n_jobs = 1, p = 2)\n",
    "\n",
    "rf = RandomForestClassifier(n_estimators = 65, criterion = 'entropy', random_state = 42, max_depth = 20)\n",
    "\n",
    "sclf = StackingClassifier(classifiers=[model1, model2], meta_classifier = rf, use_probas=True)\n",
    "\n",
    "print('3-fold cross validation:')\n",
    "for model, label in zip([model1, model2, sclf], ['dtree', 'nb', 'stacking']):\n",
    "    scores = model_selection.cross_val_score(model, X, y, cv = 3, scoring = 'accuracy')\n",
    "    print(scores)"
   ]
  },
  {
   "cell_type": "code",
   "execution_count": 84,
   "metadata": {},
   "outputs": [
    {
     "data": {
      "text/plain": [
       "9"
      ]
     },
     "execution_count": 84,
     "metadata": {},
     "output_type": "execute_result"
    }
   ],
   "source": [
    "len(X[0])"
   ]
  },
  {
   "cell_type": "code",
   "execution_count": 89,
   "metadata": {},
   "outputs": [],
   "source": [
    "############    Neural Network   #########\n",
    "\n",
    "num_inputs = 9\n",
    "hidden_layer_neurons = 5   # set hidden layer number is 5\n",
    "\n",
    "np.random.seed(4)\n",
    "w1 = 2*np.random.random((num_inputs, hidden_layer_neurons)) - 1\n",
    "\n",
    "num_outputs = 1\n",
    "w2 = 2*np.random.random((hidden_layer_neurons, num_outputs)) - 1"
   ]
  },
  {
   "cell_type": "code",
   "execution_count": 90,
   "metadata": {
    "collapsed": true
   },
   "outputs": [],
   "source": [
    "from sklearn.model_selection import KFold"
   ]
  },
  {
   "cell_type": "code",
   "execution_count": 93,
   "metadata": {},
   "outputs": [
    {
     "name": "stdout",
     "output_type": "stream",
     "text": [
      "[[7578348615]\n",
      " [1273954023]\n",
      " [7131826933]\n",
      " ...\n",
      " [2411005523]\n",
      " [7809444487]\n",
      " [7269384886]]\n",
      "[[7578348615]\n",
      " [1273954023]\n",
      " [7131826933]\n",
      " ...\n",
      " [1467576612]\n",
      " [7809444487]\n",
      " [7269384886]]\n",
      "[[1273954023]\n",
      " [7131826933]\n",
      " [5861856288]\n",
      " ...\n",
      " [8353032062]\n",
      " [1467576612]\n",
      " [7269384886]]\n",
      "[[7578348615]\n",
      " [1809053339]\n",
      " [2198399075]\n",
      " ...\n",
      " [2411005523]\n",
      " [1467576612]\n",
      " [7809444487]]\n",
      "[[7578348615]\n",
      " [1273954023]\n",
      " [7131826933]\n",
      " ...\n",
      " [1467576612]\n",
      " [7809444487]\n",
      " [7269384886]]\n"
     ]
    }
   ],
   "source": [
    "y = y.values"
   ]
  },
  {
   "cell_type": "code",
   "execution_count": 96,
   "metadata": {},
   "outputs": [
    {
     "name": "stdout",
     "output_type": "stream",
     "text": [
      "Fold:  1\n"
     ]
    },
    {
     "name": "stderr",
     "output_type": "stream",
     "text": [
      "/Users/aoxu/anaconda/lib/python3.6/site-packages/ipykernel_launcher.py:9: RuntimeWarning: overflow encountered in exp\n",
      "  if __name__ == '__main__':\n"
     ]
    },
    {
     "name": "stdout",
     "output_type": "stream",
     "text": [
      "Training Accuracy: -5489257396.02102\n",
      "Testing Accuracy:  1.0\n",
      "Fold:  2\n"
     ]
    },
    {
     "name": "stderr",
     "output_type": "stream",
     "text": [
      "/Users/aoxu/anaconda/lib/python3.6/site-packages/ipykernel_launcher.py:19: RuntimeWarning: overflow encountered in exp\n"
     ]
    },
    {
     "name": "stdout",
     "output_type": "stream",
     "text": [
      "Training Accuracy: -5508109481.978688\n",
      "Testing Accuracy:  1.0\n",
      "Fold:  3\n",
      "Training Accuracy: -5519078838.919097\n",
      "Testing Accuracy:  1.0\n"
     ]
    }
   ],
   "source": [
    "folds = KFold(n_splits= 3, shuffle=True, random_state=100)\n",
    "\n",
    "\n",
    "for n_fold, (train_idx, valid_idx) in enumerate(folds.split(X, y)):\n",
    "\n",
    "    print(\"Fold: \",n_fold+1)\n",
    "    learning_rate = 0.2       # slowly update the network\n",
    "    for epoch in range(1000):\n",
    "        l1 = 1/(1 + np.exp(-(np.dot(X[train_idx], w1))))    # sigmoid function\n",
    "        l2 = 1/(1 + np.exp(-(np.dot(l1, w2))))      # sigmoid function\n",
    "        er = (abs(y[train_idx] - l2)).mean()       # error function\n",
    "        l2_delta = (y[train_idx] - l2)*(l2 * (1-l2))\n",
    "        l1_delta = l2_delta.dot(w2.T) * (l1 * (1-l1))\n",
    "        w2 += l1.T.dot(l2_delta) * learning_rate        # gradient\n",
    "        w1 += X[train_idx].T.dot(l1_delta) * learning_rate     # gradient\n",
    "    print('Training Accuracy:', 1 - er)\n",
    "        \n",
    "        \n",
    "    l1 = 1/(1 + np.exp(-(np.dot(X[valid_idx], w1))))\n",
    "    l2 = 1/(1 + np.exp(-(np.dot(l1, w2))))\n",
    "    yp = np.argmax(l2,axis=1)\n",
    "    res = yp == np.argmax(y[valid_idx],axis=1)\n",
    "    correct = np.sum(res) / len(res)\n",
    "    print(\"Testing Accuracy: \",correct)"
   ]
  },
  {
   "cell_type": "code",
   "execution_count": null,
   "metadata": {
    "collapsed": true
   },
   "outputs": [],
   "source": []
  }
 ],
 "metadata": {
  "kernelspec": {
   "display_name": "Python 3",
   "language": "python",
   "name": "python3"
  },
  "language_info": {
   "codemirror_mode": {
    "name": "ipython",
    "version": 3
   },
   "file_extension": ".py",
   "mimetype": "text/x-python",
   "name": "python",
   "nbconvert_exporter": "python",
   "pygments_lexer": "ipython3",
   "version": "3.6.1"
  }
 },
 "nbformat": 4,
 "nbformat_minor": 2
}
